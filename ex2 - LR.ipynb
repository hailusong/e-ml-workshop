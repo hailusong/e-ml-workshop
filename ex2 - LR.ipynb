{
 "cells": [
  {
   "cell_type": "markdown",
   "metadata": {},
   "source": [
    "# Linear Regression\n",
    "- We will show you how to load some data \n",
    "- plot it with a scatterplot \n",
    "- calculate the cost function with respect to a straight line."
   ]
  },
  {
   "cell_type": "code",
   "execution_count": null,
   "metadata": {},
   "outputs": [],
   "source": [
    "# import pkgs\n",
    "%matplotlib inline\n",
    "import matplotlib.pyplot as plt\n",
    "import pandas as pd\n",
    "import numpy as np"
   ]
  },
  {
   "cell_type": "code",
   "execution_count": null,
   "metadata": {},
   "outputs": [],
   "source": [
    "#load file\n",
    "df = pd.read_csv('./data/weight-height.csv')"
   ]
  },
  {
   "cell_type": "code",
   "execution_count": null,
   "metadata": {},
   "outputs": [],
   "source": [
    "df.head()"
   ]
  },
  {
   "cell_type": "code",
   "execution_count": null,
   "metadata": {},
   "outputs": [],
   "source": [
    "df.plot(kind='scatter',\n",
    "        x='Height',\n",
    "        y='Weight',\n",
    "        title='Weight and Height in adults')"
   ]
  },
  {
   "cell_type": "code",
   "execution_count": null,
   "metadata": {},
   "outputs": [],
   "source": [
    "df.plot(kind='scatter',\n",
    "        x='Height',\n",
    "        y='Weight',\n",
    "        title='Weight and Height in adults')\n",
    "\n",
    "# Here we're plotting the red line 'by hand' with fixed values\n",
    "# We'll try to learn this line with an algorithm below\n",
    "# Arbitrary line (seems to feet pretty good eh?)  This is random\n",
    "\n",
    "plt.plot([55, 78], [75, 250], color='red', linewidth=3)"
   ]
  },
  {
   "cell_type": "code",
   "execution_count": null,
   "metadata": {},
   "outputs": [],
   "source": [
    "def line(x, w=0, b=0):\n",
    "    return x * w + b"
   ]
  },
  {
   "cell_type": "code",
   "execution_count": null,
   "metadata": {},
   "outputs": [],
   "source": [
    "# notice we can define a space of 100 points equally spaced between 55 and 80.\n",
    "x = np.linspace(55, 80, 100)"
   ]
  },
  {
   "cell_type": "code",
   "execution_count": null,
   "metadata": {},
   "outputs": [],
   "source": [
    "x"
   ]
  },
  {
   "cell_type": "code",
   "execution_count": null,
   "metadata": {},
   "outputs": [],
   "source": [
    "yhat = line(x, w=0, b=0)"
   ]
  },
  {
   "cell_type": "code",
   "execution_count": null,
   "metadata": {},
   "outputs": [],
   "source": [
    "# now let's calculate yhat and let's look at it.\n",
    "# should be equal to an array of zeros (because both W and B are zero)\n",
    "yhat"
   ]
  },
  {
   "cell_type": "code",
   "execution_count": null,
   "metadata": {},
   "outputs": [],
   "source": [
    "# let's plot the function yhat as a function of x and added to our data.\n",
    "df.plot(kind='scatter',\n",
    "        x='Height',\n",
    "        y='Weight',\n",
    "        title='Weight and Height in adults')\n",
    "plt.plot(x, yhat, color='red', linewidth=3)"
   ]
  },
  {
   "cell_type": "code",
   "execution_count": null,
   "metadata": {},
   "outputs": [],
   "source": [
    "# It's a straight line passing through zero with zero slope."
   ]
  },
  {
   "cell_type": "markdown",
   "metadata": {},
   "source": [
    "### Cost Function\n",
    "- Now we are going to calculate the cost \n",
    "- Which is the mean squared error given by the residuals of these data points from this line"
   ]
  },
  {
   "cell_type": "code",
   "execution_count": null,
   "metadata": {},
   "outputs": [],
   "source": [
    "# This will take our true data and our predictive data which is the points of the line the yhat.\n",
    "# y and the yhat and it will take the difference square it save it in a temporary variable called S \n",
    "# and then calculate the mean of s.\n",
    "\n",
    "def mean_squared_error(y_true, y_pred):\n",
    "    s = (y_true - y_pred)**2\n",
    "    return s.mean()"
   ]
  },
  {
   "cell_type": "code",
   "execution_count": null,
   "metadata": {},
   "outputs": [],
   "source": [
    "# Now we passed two arrays X to be the values of height and y true to be the values of weight \n",
    "# This makes X and y_true numpy arrays and not pandas objects\n",
    "\n",
    "X = df[['Height']].values\n",
    "y_true = df['Weight'].values"
   ]
  },
  {
   "cell_type": "code",
   "execution_count": null,
   "metadata": {},
   "outputs": [],
   "source": [
    "y_true"
   ]
  },
  {
   "cell_type": "code",
   "execution_count": null,
   "metadata": {},
   "outputs": [],
   "source": [
    "X"
   ]
  },
  {
   "cell_type": "code",
   "execution_count": null,
   "metadata": {},
   "outputs": [],
   "source": [
    "y_pred = line(X)"
   ]
  },
  {
   "cell_type": "code",
   "execution_count": null,
   "metadata": {},
   "outputs": [],
   "source": [
    "y_pred"
   ]
  },
  {
   "cell_type": "code",
   "execution_count": null,
   "metadata": {},
   "outputs": [],
   "source": [
    "mses=mean_squared_error(y_true, y_pred.ravel())"
   ]
  },
  {
   "cell_type": "code",
   "execution_count": null,
   "metadata": {},
   "outputs": [],
   "source": [
    "y_pred"
   ]
  },
  {
   "cell_type": "markdown",
   "metadata": {},
   "source": [
    "### you do it!\n",
    "\n",
    "Try changing the values of the parameters b and w in the line above and plot it again to see how the plot and the cost  change."
   ]
  },
  {
   "cell_type": "code",
   "execution_count": null,
   "metadata": {},
   "outputs": [],
   "source": [
    "plt.figure(figsize=(10, 5))\n",
    "\n",
    "# we are going to draw 2 plots in the same figure\n",
    "# first plot, data and a few lines\n",
    "ax1 = plt.subplot(121)\n",
    "df.plot(kind='scatter',\n",
    "        x='Height',\n",
    "        y='Weight',\n",
    "        title='Weight and Height in adults', ax=ax1)\n",
    "\n",
    "# let's explore the cost function for a few values of b between -100 and +150\n",
    "bbs = np.array([-100, -50, 0, 50, 100, 150])\n",
    "mses = []  # we will append the values of the cost here, for each line\n",
    "for b in bbs:\n",
    "    y_pred = line(X, w=2, b=b)\n",
    "    mse = mean_squared_error(y_true, y_pred)\n",
    "    mses.append(mse)\n",
    "    plt.plot(X, y_pred)\n",
    "\n",
    "# second plot: Cost function\n",
    "ax2 = plt.subplot(122)\n",
    "plt.plot(bbs, mses, 'o-')\n",
    "plt.title('Cost as a function of b')\n",
    "plt.xlabel('b')"
   ]
  },
  {
   "cell_type": "markdown",
   "metadata": {},
   "source": [
    "## Linear Regression with Tensorflow and Keras"
   ]
  },
  {
   "cell_type": "code",
   "execution_count": 22,
   "metadata": {},
   "outputs": [
    {
     "name": "stderr",
     "output_type": "stream",
     "text": [
      "Using TensorFlow backend.\n"
     ]
    }
   ],
   "source": [
    "from keras.models import Sequential\n",
    "from keras.layers import Dense\n",
    "from keras.optimizers import Adam, SGD"
   ]
  },
  {
   "cell_type": "code",
   "execution_count": 23,
   "metadata": {},
   "outputs": [],
   "source": [
    "model = Sequential()"
   ]
  },
  {
   "cell_type": "code",
   "execution_count": 24,
   "metadata": {},
   "outputs": [],
   "source": [
    "model.add(Dense(1, input_shape=(1,)))"
   ]
  },
  {
   "cell_type": "code",
   "execution_count": 25,
   "metadata": {},
   "outputs": [
    {
     "name": "stdout",
     "output_type": "stream",
     "text": [
      "_________________________________________________________________\n",
      "Layer (type)                 Output Shape              Param #   \n",
      "=================================================================\n",
      "dense_1 (Dense)              (None, 1)                 2         \n",
      "=================================================================\n",
      "Total params: 2\n",
      "Trainable params: 2\n",
      "Non-trainable params: 0\n",
      "_________________________________________________________________\n"
     ]
    }
   ],
   "source": [
    "model.summary()"
   ]
  },
  {
   "cell_type": "code",
   "execution_count": 26,
   "metadata": {},
   "outputs": [],
   "source": [
    "model.compile(Adam(lr=0.8), 'mean_squared_error')"
   ]
  },
  {
   "cell_type": "code",
   "execution_count": 27,
   "metadata": {},
   "outputs": [
    {
     "name": "stdout",
     "output_type": "stream",
     "text": [
      "Epoch 1/40\n",
      "10000/10000 [==============================] - 0s 38us/step - loss: 961.0301\n",
      "Epoch 2/40\n",
      "10000/10000 [==============================] - 0s 22us/step - loss: 550.4131\n",
      "Epoch 3/40\n",
      "10000/10000 [==============================] - 0s 23us/step - loss: 515.3597\n",
      "Epoch 4/40\n",
      "10000/10000 [==============================] - 0s 23us/step - loss: 480.5806\n",
      "Epoch 5/40\n",
      "10000/10000 [==============================] - 0s 23us/step - loss: 430.5465\n",
      "Epoch 6/40\n",
      "10000/10000 [==============================] - 0s 23us/step - loss: 379.9785\n",
      "Epoch 7/40\n",
      "10000/10000 [==============================] - 0s 23us/step - loss: 351.4534\n",
      "Epoch 8/40\n",
      "10000/10000 [==============================] - 0s 24us/step - loss: 317.5678\n",
      "Epoch 9/40\n",
      "10000/10000 [==============================] - 0s 23us/step - loss: 295.1464\n",
      "Epoch 10/40\n",
      "10000/10000 [==============================] - 0s 24us/step - loss: 261.1952\n",
      "Epoch 11/40\n",
      "10000/10000 [==============================] - 0s 23us/step - loss: 275.7771\n",
      "Epoch 12/40\n",
      "10000/10000 [==============================] - 0s 23us/step - loss: 234.0839\n",
      "Epoch 13/40\n",
      "10000/10000 [==============================] - 0s 23us/step - loss: 218.3035\n",
      "Epoch 14/40\n",
      "10000/10000 [==============================] - 0s 24us/step - loss: 204.0274\n",
      "Epoch 15/40\n",
      "10000/10000 [==============================] - 0s 22us/step - loss: 203.0717\n",
      "Epoch 16/40\n",
      "10000/10000 [==============================] - 0s 25us/step - loss: 199.6987\n",
      "Epoch 17/40\n",
      "10000/10000 [==============================] - 0s 23us/step - loss: 196.0940\n",
      "Epoch 18/40\n",
      "10000/10000 [==============================] - 0s 23us/step - loss: 181.1810\n",
      "Epoch 19/40\n",
      "10000/10000 [==============================] - 0s 23us/step - loss: 196.9798\n",
      "Epoch 20/40\n",
      "10000/10000 [==============================] - 0s 23us/step - loss: 190.9035\n",
      "Epoch 21/40\n",
      "10000/10000 [==============================] - 0s 23us/step - loss: 181.2598\n",
      "Epoch 22/40\n",
      "10000/10000 [==============================] - 0s 23us/step - loss: 180.5623\n",
      "Epoch 23/40\n",
      "10000/10000 [==============================] - 0s 22us/step - loss: 183.2308\n",
      "Epoch 24/40\n",
      "10000/10000 [==============================] - 0s 23us/step - loss: 188.1489\n",
      "Epoch 25/40\n",
      "10000/10000 [==============================] - 0s 24us/step - loss: 180.4278\n",
      "Epoch 26/40\n",
      "10000/10000 [==============================] - 0s 23us/step - loss: 171.5772\n",
      "Epoch 27/40\n",
      "10000/10000 [==============================] - 0s 24us/step - loss: 188.1483\n",
      "Epoch 28/40\n",
      "10000/10000 [==============================] - 0s 23us/step - loss: 176.2280\n",
      "Epoch 29/40\n",
      "10000/10000 [==============================] - 0s 23us/step - loss: 174.3644\n",
      "Epoch 30/40\n",
      "10000/10000 [==============================] - 0s 23us/step - loss: 186.2641\n",
      "Epoch 31/40\n",
      "10000/10000 [==============================] - 0s 24us/step - loss: 169.4729\n",
      "Epoch 32/40\n",
      "10000/10000 [==============================] - 0s 23us/step - loss: 183.7948\n",
      "Epoch 33/40\n",
      "10000/10000 [==============================] - 0s 24us/step - loss: 177.1925\n",
      "Epoch 34/40\n",
      "10000/10000 [==============================] - 0s 24us/step - loss: 182.3034\n",
      "Epoch 35/40\n",
      "10000/10000 [==============================] - 0s 24us/step - loss: 181.0356\n",
      "Epoch 36/40\n",
      "10000/10000 [==============================] - 0s 23us/step - loss: 172.7206\n",
      "Epoch 37/40\n",
      "10000/10000 [==============================] - 0s 24us/step - loss: 173.4886\n",
      "Epoch 38/40\n",
      "10000/10000 [==============================] - 0s 24us/step - loss: 180.4797\n",
      "Epoch 39/40\n",
      "10000/10000 [==============================] - 0s 24us/step - loss: 179.3136\n",
      "Epoch 40/40\n",
      "10000/10000 [==============================] - 0s 23us/step - loss: 170.7182\n"
     ]
    },
    {
     "data": {
      "text/plain": [
       "<keras.callbacks.History at 0x1231e38d0>"
      ]
     },
     "execution_count": 27,
     "metadata": {},
     "output_type": "execute_result"
    }
   ],
   "source": [
    "model.fit(X, y_true, epochs=40)"
   ]
  },
  {
   "cell_type": "code",
   "execution_count": 28,
   "metadata": {},
   "outputs": [
    {
     "data": {
      "text/plain": [
       "array([[221.27441],\n",
       "       [182.19696],\n",
       "       [223.30414],\n",
       "       ...,\n",
       "       [144.28604],\n",
       "       [184.14374],\n",
       "       [129.44427]], dtype=float32)"
      ]
     },
     "execution_count": 28,
     "metadata": {},
     "output_type": "execute_result"
    }
   ],
   "source": [
    "y_pred = model.predict(X)\n",
    "y_pred"
   ]
  },
  {
   "cell_type": "code",
   "execution_count": 29,
   "metadata": {},
   "outputs": [
    {
     "data": {
      "text/plain": [
       "[<matplotlib.lines.Line2D at 0x123483278>]"
      ]
     },
     "execution_count": 29,
     "metadata": {},
     "output_type": "execute_result"
    },
    {
     "data": {
      "image/png": "[encoded data removed]",
      "text/plain": [
       "<Figure size 432x288 with 1 Axes>"
      ]
     },
     "metadata": {},
     "output_type": "display_data"
    }
   ],
   "source": [
    "df.plot(kind='scatter',\n",
    "        x='Height',\n",
    "        y='Weight',\n",
    "        title='Weight and Height in adults')\n",
    "plt.plot(X, y_pred, color='red')"
   ]
  },
  {
   "cell_type": "code",
   "execution_count": 30,
   "metadata": {},
   "outputs": [],
   "source": [
    "W, B = model.get_weights()"
   ]
  },
  {
   "cell_type": "code",
   "execution_count": 31,
   "metadata": {},
   "outputs": [
    {
     "data": {
      "text/plain": [
       "array([[7.7150207]], dtype=float32)"
      ]
     },
     "execution_count": 31,
     "metadata": {},
     "output_type": "execute_result"
    }
   ],
   "source": [
    "W"
   ]
  },
  {
   "cell_type": "code",
   "execution_count": 32,
   "metadata": {},
   "outputs": [
    {
     "data": {
      "text/plain": [
       "array([-348.45685], dtype=float32)"
      ]
     },
     "execution_count": 32,
     "metadata": {},
     "output_type": "execute_result"
    }
   ],
   "source": [
    "B"
   ]
  },
  {
   "cell_type": "markdown",
   "metadata": {},
   "source": [
    "## Evaluating Model Performance\n",
    "- We also need to establish a score to compare different models.\n",
    "- Unfortunately we cannot use the cost itself as a score because its value depends on the scale used to measure features and labels.\n",
    "- Let's start by defining a better score common to use score for aggression:  R-squared score"
   ]
  },
  {
   "cell_type": "code",
   "execution_count": null,
   "metadata": {},
   "outputs": [],
   "source": [
    "# R-squared score compares the sum of the squares of residuals in our model with the sum of the squares\n",
    "# in a baseline model that predicts the average price \n",
    "# IF the mode is really good the sum of the squares will be  small \n",
    "# Compared to the sum of the squares and the fraction on the right will tend to be zero.\n",
    "# R2 close to one = Good score \n",
    "# R2 lower than one = Increasingly we're worse score.\n",
    "# And when you are at zero or below your Model is doing worse than the simple model of using the average price.\n",
    "\n",
    "from sklearn.metrics import r2_score"
   ]
  },
  {
   "cell_type": "code",
   "execution_count": null,
   "metadata": {},
   "outputs": [],
   "source": [
    "print(\"The R2 score is {:0.3f}\".format(r2_score(y_true, y_pred)))"
   ]
  },
  {
   "cell_type": "markdown",
   "metadata": {},
   "source": [
    "### Train Test Split\n",
    "- We split our data into training and test set to check how well our model is able to generalize."
   ]
  },
  {
   "cell_type": "code",
   "execution_count": null,
   "metadata": {},
   "outputs": [],
   "source": [
    "from sklearn.model_selection import train_test_split"
   ]
  },
  {
   "cell_type": "code",
   "execution_count": null,
   "metadata": {},
   "outputs": [],
   "source": [
    "X_train, X_test, y_train, y_test = train_test_split(X, y_true,\n",
    "                                                    test_size=0.2)"
   ]
  },
  {
   "cell_type": "code",
   "execution_count": null,
   "metadata": {},
   "outputs": [],
   "source": [
    "len(X_train)"
   ]
  },
  {
   "cell_type": "code",
   "execution_count": null,
   "metadata": {},
   "outputs": [],
   "source": [
    "len(X_test)"
   ]
  },
  {
   "cell_type": "code",
   "execution_count": null,
   "metadata": {},
   "outputs": [],
   "source": [
    "W[0, 0] = 0.0\n",
    "B[0] = 0.0\n",
    "model.set_weights((W, B))"
   ]
  },
  {
   "cell_type": "code",
   "execution_count": null,
   "metadata": {},
   "outputs": [],
   "source": [
    "model.fit(X_train, y_train, epochs=50, verbose=0)"
   ]
  },
  {
   "cell_type": "code",
   "execution_count": null,
   "metadata": {},
   "outputs": [],
   "source": [
    "y_train_pred = model.predict(X_train).ravel()\n",
    "y_test_pred = model.predict(X_test).ravel()"
   ]
  },
  {
   "cell_type": "code",
   "execution_count": null,
   "metadata": {},
   "outputs": [],
   "source": [
    "from sklearn.metrics import mean_squared_error as mse"
   ]
  },
  {
   "cell_type": "code",
   "execution_count": null,
   "metadata": {},
   "outputs": [],
   "source": [
    "# Values that are close together are great because it means that our model is generalizing\n",
    "\n",
    "on the training and on the test.\n",
    "print(\"The Mean Squared Error on the Train set is:\\t{:0.1f}\".format(mse(y_train, y_train_pred)))\n",
    "print(\"The Mean Squared Error on the Test set is:\\t{:0.1f}\".format(mse(y_test, y_test_pred)))"
   ]
  },
  {
   "cell_type": "code",
   "execution_count": null,
   "metadata": {},
   "outputs": [],
   "source": [
    "# What matters here is not only how high your R-squared (remember closer to one the better) \n",
    "# What is most important here is that the score for train and test is close, this mean your model is generalizing\n",
    "\n",
    "from sklearn.metrics import r2_score\n",
    "print(\"The R2 score on the Train set is:\\t{:0.3f}\".format(r2_score(y_train, y_train_pred)))\n",
    "print(\"The R2 score on the Test set is:\\t{:0.3f}\".format(r2_score(y_test, y_test_pred)))"
   ]
  },
  {
   "cell_type": "markdown",
   "metadata": {},
   "source": [
    "# Machine Learning Exercises"
   ]
  },
  {
   "cell_type": "markdown",
   "metadata": {},
   "source": [
    "## Exercise 1\n",
    "\n",
    "You've just been hired at a real estate investment firm and they would like you to build a model for pricing houses. You are given a dataset that contains data for house prices and a few features like number of bedrooms, size in square feet and age of the house. Let's see if you can build a model that is able to predict the price. In this exercise we extend what we have learned about linear regression to a dataset with more than one feature. Here are the steps to complete it:\n",
    "\n",
    "1. Load the dataset ../data/housing-data.csv\n",
    "- plot the histograms for each feature\n",
    "- create 2 variables called X and y: X shall be a matrix with 3 columns (sqft,bdrms,age) and y shall be a vector with 1 column (price)\n",
    "- create a linear regression model in Keras with the appropriate number of inputs and output\n",
    "- split the data into train and test with a 20% test size\n",
    "- train the model on the training set and check its accuracy on training and test set\n",
    "- how's your model doing? Is the loss growing smaller?\n",
    "- try to improve your model with these experiments:\n",
    "    - normalize the input features with one of the rescaling techniques mentioned above\n",
    "    - use a different value for the learning rate of your model\n",
    "    - use a different optimizer\n",
    "- once you're satisfied with training, check the R2score on the test set"
   ]
  },
  {
   "cell_type": "code",
   "execution_count": null,
   "metadata": {},
   "outputs": [],
   "source": []
  },
  {
   "cell_type": "markdown",
   "metadata": {},
   "source": [
    "# You've just learned the basic ingredients of a neural network.\n",
    "\n",
    "- Learned about hypothesis.\n",
    "- You've learned about cost and \n",
    "- You've learned about optimization."
   ]
  }
 ],
 "metadata": {
  "kernelspec": {
   "display_name": "Python 3",
   "language": "python",
   "name": "python3"
  },
  "language_info": {
   "codemirror_mode": {
    "name": "ipython",
    "version": 3
   },
   "file_extension": ".py",
   "mimetype": "text/x-python",
   "name": "python",
   "nbconvert_exporter": "python",
   "pygments_lexer": "ipython3",
   "version": "3.6.6"
  }
 },
 "nbformat": 4,
 "nbformat_minor": 2
}
