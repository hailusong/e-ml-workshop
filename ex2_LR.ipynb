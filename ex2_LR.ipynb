{
  "nbformat": 4,
  "nbformat_minor": 0,
  "metadata": {
    "colab": {
      "name": "ex2 - LR.ipynb",
      "version": "0.3.2",
      "provenance": [],
      "collapsed_sections": [
        "aP83b77ZIEMp",
        "NmDBG6nKGM3T",
        "N2igZnLqGM3W",
        "kCMVHzfBGM4A",
        "CjtOaW8OGM4p"
      ]
    },
    "kernelspec": {
      "display_name": "Python 3",
      "language": "python",
      "name": "python3"
    }
  },
  "cells": [
    {
      "metadata": {
        "id": "zv1O92EzGM2T",
        "colab_type": "text"
      },
      "cell_type": "markdown",
      "source": [
        "# Linear Regression\n",
        "- We will show you how to load some data \n",
        "- plot it with a scatterplot \n",
        "- calculate the cost function with respect to a straight line."
      ]
    },
    {
      "metadata": {
        "id": "xZqbQW_mHAfp",
        "colab_type": "code",
        "colab": {}
      },
      "cell_type": "code",
      "source": [
        "!git clone https://github.com/ArctiqTeam/e-ml-workshop"
      ],
      "execution_count": 0,
      "outputs": []
    },
    {
      "metadata": {
        "id": "aP83b77ZIEMp",
        "colab_type": "text"
      },
      "cell_type": "markdown",
      "source": [
        "## LR"
      ]
    },
    {
      "metadata": {
        "id": "6SVOHVRpGM2V",
        "colab_type": "code",
        "colab": {}
      },
      "cell_type": "code",
      "source": [
        "# import pkgs\n",
        "%matplotlib inline\n",
        "import matplotlib.pyplot as plt\n",
        "import pandas as pd\n",
        "import numpy as np"
      ],
      "execution_count": 0,
      "outputs": []
    },
    {
      "metadata": {
        "id": "Tn0nqmD0GM2a",
        "colab_type": "code",
        "colab": {}
      },
      "cell_type": "code",
      "source": [
        "#load file\n",
        "df = pd.read_csv('./e-ml-workshop/data/weight-height.csv')"
      ],
      "execution_count": 0,
      "outputs": []
    },
    {
      "metadata": {
        "id": "kQt5zvveGM2c",
        "colab_type": "code",
        "colab": {}
      },
      "cell_type": "code",
      "source": [
        "df.head()"
      ],
      "execution_count": 0,
      "outputs": []
    },
    {
      "metadata": {
        "id": "6UOUOYKTGM2f",
        "colab_type": "code",
        "colab": {}
      },
      "cell_type": "code",
      "source": [
        "df.plot(kind='scatter',\n",
        "        x='Height',\n",
        "        y='Weight',\n",
        "        title='Weight and Height in adults')"
      ],
      "execution_count": 0,
      "outputs": []
    },
    {
      "metadata": {
        "id": "fvoNhoThGM2i",
        "colab_type": "code",
        "colab": {}
      },
      "cell_type": "code",
      "source": [
        "df.plot(kind='scatter',\n",
        "        x='Height',\n",
        "        y='Weight',\n",
        "        title='Weight and Height in adults')\n",
        "\n",
        "# Here we're plotting the red line 'by hand' with fixed values\n",
        "# We'll try to learn this line with an algorithm below\n",
        "# Arbitrary line (seems to feet pretty good eh?)  This is random\n",
        "\n",
        "plt.plot([55, 78], [75, 250], color='red', linewidth=3)"
      ],
      "execution_count": 0,
      "outputs": []
    },
    {
      "metadata": {
        "id": "jW3iTen5GM2l",
        "colab_type": "code",
        "colab": {}
      },
      "cell_type": "code",
      "source": [
        "# Let's define a function called \"line\", that takes some values in X and performs what you've learned to be the equation that defines a line so multiplies \n",
        "# X by the way W and adds the bias, both set to zero for now\n",
        "\n",
        "def line(x, w=0, b=0):\n",
        "    return x * w + b"
      ],
      "execution_count": 0,
      "outputs": []
    },
    {
      "metadata": {
        "id": "_--28VzKGM2o",
        "colab_type": "code",
        "colab": {}
      },
      "cell_type": "code",
      "source": [
        "# notice we can define a space of 100 points equally spaced between 55 and 80.\n",
        "x = np.linspace(55, 80, 100)"
      ],
      "execution_count": 0,
      "outputs": []
    },
    {
      "metadata": {
        "id": "Ve5nmRb-GM2q",
        "colab_type": "code",
        "colab": {}
      },
      "cell_type": "code",
      "source": [
        "x"
      ],
      "execution_count": 0,
      "outputs": []
    },
    {
      "metadata": {
        "id": "0VFDfnI4GM2u",
        "colab_type": "code",
        "colab": {}
      },
      "cell_type": "code",
      "source": [
        "yhat = line(x, w=0, b=0)"
      ],
      "execution_count": 0,
      "outputs": []
    },
    {
      "metadata": {
        "id": "hGjx0d20GM2x",
        "colab_type": "code",
        "colab": {}
      },
      "cell_type": "code",
      "source": [
        "# now let's calculate yhat and let's look at it.\n",
        "# should be equal to an array of zeros (because both W and B are zero)\n",
        "yhat"
      ],
      "execution_count": 0,
      "outputs": []
    },
    {
      "metadata": {
        "id": "oE3b0MiWGM2z",
        "colab_type": "code",
        "colab": {}
      },
      "cell_type": "code",
      "source": [
        "# let's plot the function yhat as a function of x and added to our data.\n",
        "df.plot(kind='scatter',\n",
        "        x='Height',\n",
        "        y='Weight',\n",
        "        title='Weight and Height in adults')\n",
        "plt.plot(x, yhat, color='red', linewidth=3)"
      ],
      "execution_count": 0,
      "outputs": []
    },
    {
      "metadata": {
        "id": "KnsiaLzHGM22",
        "colab_type": "code",
        "colab": {}
      },
      "cell_type": "code",
      "source": [
        "# It's a straight line passing through zero with zero slope."
      ],
      "execution_count": 0,
      "outputs": []
    },
    {
      "metadata": {
        "id": "pVKRXhBIGM25",
        "colab_type": "text"
      },
      "cell_type": "markdown",
      "source": [
        "### Cost Function\n",
        "- Now we are going to calculate the cost \n",
        "- Which is the mean squared error given by the residuals of these data points from this line"
      ]
    },
    {
      "metadata": {
        "id": "YLCDhyQnGM26",
        "colab_type": "code",
        "colab": {}
      },
      "cell_type": "code",
      "source": [
        "# This will take our true data and our predictive data which is the points of the line the yhat.\n",
        "# y and the yhat and it will take the difference square it save it in a temporary variable called S \n",
        "# and then calculate the mean of s. So Mean Squared Error\n",
        "\n",
        "def mean_squared_error(y_true, y_pred):\n",
        "    s = (y_true - y_pred)**2\n",
        "    return s.mean()"
      ],
      "execution_count": 0,
      "outputs": []
    },
    {
      "metadata": {
        "id": "JkabpJX7GM28",
        "colab_type": "code",
        "colab": {}
      },
      "cell_type": "code",
      "source": [
        "# Now we passed two arrays X to be the values of height and y true to be the values of weight \n",
        "# This makes X and y_true numpy arrays and not pandas objects\n",
        "\n",
        "X = df[['Height']].values\n",
        "y_true = df['Weight'].values"
      ],
      "execution_count": 0,
      "outputs": []
    },
    {
      "metadata": {
        "id": "zGfdO01SGM2_",
        "colab_type": "code",
        "colab": {}
      },
      "cell_type": "code",
      "source": [
        "#It's X and y_true are now actually an array.\n",
        "y_true"
      ],
      "execution_count": 0,
      "outputs": []
    },
    {
      "metadata": {
        "id": "QXMMmL_sGM3C",
        "colab_type": "code",
        "colab": {}
      },
      "cell_type": "code",
      "source": [
        "X"
      ],
      "execution_count": 0,
      "outputs": []
    },
    {
      "metadata": {
        "id": "wfxMc6zyGM3F",
        "colab_type": "code",
        "colab": {}
      },
      "cell_type": "code",
      "source": [
        "# Now we can calculate Y predicted by taking the line function defined above, \n",
        "y_pred = line(X)"
      ],
      "execution_count": 0,
      "outputs": []
    },
    {
      "metadata": {
        "id": "yTh1yVUAGM3J",
        "colab_type": "code",
        "colab": {}
      },
      "cell_type": "code",
      "source": [
        "# Colum array (because X was a column vector)\n",
        "y_pred"
      ],
      "execution_count": 0,
      "outputs": []
    },
    {
      "metadata": {
        "id": "6KwVyfSPGM3M",
        "colab_type": "code",
        "colab": {}
      },
      "cell_type": "code",
      "source": [
        "mses=mean_squared_error(y_true, y_pred.ravel())\n",
        "mses"
      ],
      "execution_count": 0,
      "outputs": []
    },
    {
      "metadata": {
        "id": "tH-FblfdGM3Q",
        "colab_type": "code",
        "colab": {}
      },
      "cell_type": "code",
      "source": [
        "y_pred"
      ],
      "execution_count": 0,
      "outputs": []
    },
    {
      "metadata": {
        "id": "NmDBG6nKGM3T",
        "colab_type": "text"
      },
      "cell_type": "markdown",
      "source": [
        "### you do it!\n",
        "\n",
        "Try changing the values of the parameters b and w in the line above and plot it again to see how the plot and the cost  change."
      ]
    },
    {
      "metadata": {
        "id": "9UVSvo_cGM3U",
        "colab_type": "code",
        "colab": {}
      },
      "cell_type": "code",
      "source": [
        "plt.figure(figsize=(10, 5))\n",
        "\n",
        "# we are going to draw 2 plots in the same figure\n",
        "# first plot, data and a few lines\n",
        "ax1 = plt.subplot(121)\n",
        "df.plot(kind='scatter',\n",
        "        x='Height',\n",
        "        y='Weight',\n",
        "        title='Weight and Height in adults', ax=ax1)\n",
        "\n",
        "# let's explore the cost function for a few values of b between -100 and +150\n",
        "bbs = np.array([-100, -50, 0, 50, 100, 150])\n",
        "\n",
        "# we will append the values of the cost here, for each line\n",
        "mses = []  \n",
        "for b in bbs:\n",
        "    y_pred = line(X, w=2, b=b)\n",
        "    mse = mean_squared_error(y_true, y_pred)\n",
        "    mses.append(mse)\n",
        "    plt.plot(X, y_pred)\n",
        "\n",
        "# second plot: Cost function\n",
        "ax2 = plt.subplot(122)\n",
        "plt.plot(bbs, mses, 'o-')\n",
        "plt.title('Cost as a function of b')\n",
        "plt.xlabel('b')"
      ],
      "execution_count": 0,
      "outputs": []
    },
    {
      "metadata": {
        "id": "VZaDeuVfJSVU",
        "colab_type": "text"
      },
      "cell_type": "markdown",
      "source": [
        "Of course if we start changing the slope will go even further down and reduce the costs great."
      ]
    },
    {
      "metadata": {
        "id": "N2igZnLqGM3W",
        "colab_type": "text"
      },
      "cell_type": "markdown",
      "source": [
        "## Linear Regression with Tensorflow and Keras"
      ]
    },
    {
      "metadata": {
        "id": "D25gpMyBJY6q",
        "colab_type": "text"
      },
      "cell_type": "markdown",
      "source": [
        "So Linear Regressions allows us to do this process automatically and that's what we're going to do next.\n",
        "\n",
        "Let's do it with Keras!\n",
        "\n",
        "There are a lot of packages that implemented in the regressions we can do it in sklearn, scipy,  We will do it in Keras because I want you guys to start familiarize with the Keras API.\n",
        "\n",
        "We will go through it in greater detail as we discover neural networks but it's great if you already start to getting familiar with it."
      ]
    },
    {
      "metadata": {
        "id": "yFyxxx5EGM3X",
        "colab_type": "code",
        "colab": {}
      },
      "cell_type": "code",
      "source": [
        "# First thing we're going to import is the type of Model\n",
        "# This is called sequential and it's called sequential because we're going to be adding elements to these model in a sequence. \n",
        "# To build a linear regression we only We only need that dense type of layer, the last thing we import is a couple of optimizers.\n",
        "# These are the things that change our weights and biases looking for the minimum cost\n",
        "\n",
        "from keras.models import Sequential\n",
        "from keras.layers import Dense\n",
        "from keras.optimizers import Adam, SGD"
      ],
      "execution_count": 0,
      "outputs": []
    },
    {
      "metadata": {
        "id": "NJo60A_1GM3c",
        "colab_type": "code",
        "colab": {}
      },
      "cell_type": "code",
      "source": [
        "# Define as Sequential\n",
        "model = Sequential()"
      ],
      "execution_count": 0,
      "outputs": []
    },
    {
      "metadata": {
        "id": "a95dUmZ7GM3f",
        "colab_type": "code",
        "colab": {}
      },
      "cell_type": "code",
      "source": [
        "# Now add to the mode a \"dense\" layer\n",
        "# First Paramets \"1\" is the number of units. Means how many output values will this model have. \n",
        "# Well since it's a LR that takes one value x as input and one value is given as output y_hat.\n",
        "# We only need one value in output. \n",
        "\n",
        "# Input Shape is 1 number (X)\n",
        "\n",
        "model.add(Dense(1, input_shape=(1,)))"
      ],
      "execution_count": 0,
      "outputs": []
    },
    {
      "metadata": {
        "id": "oQpxznKgGM3h",
        "colab_type": "code",
        "colab": {}
      },
      "cell_type": "code",
      "source": [
        "# As you can see there is only one layer. It's called dense one the output shape is one number and it has two parameters these are the single weight and the bias. \n",
        "# Notice that the output shape is given with this tuple that says \"None, 1\". The reason for this is that the model can accept multiple points at once.\n",
        "# So instead of passing a single value for x we could ask for predictions for many values of x in one single call.\n",
        "\n",
        "model.summary()"
      ],
      "execution_count": 0,
      "outputs": []
    },
    {
      "metadata": {
        "id": "tIURRvUwGM3l",
        "colab_type": "code",
        "colab": {}
      },
      "cell_type": "code",
      "source": [
        "model.compile(Adam(lr=0.8), 'mean_squared_error')"
      ],
      "execution_count": 0,
      "outputs": []
    },
    {
      "metadata": {
        "id": "OfGvvo1gGM3p",
        "colab_type": "code",
        "colab": {}
      },
      "cell_type": "code",
      "source": [
        "model.fit(X, y_true, epochs=40)"
      ],
      "execution_count": 0,
      "outputs": []
    },
    {
      "metadata": {
        "id": "RW1xaCahGM3u",
        "colab_type": "code",
        "colab": {}
      },
      "cell_type": "code",
      "source": [
        "y_pred = model.predict(X)\n",
        "y_pred"
      ],
      "execution_count": 0,
      "outputs": []
    },
    {
      "metadata": {
        "id": "d8qfcVqqGM3z",
        "colab_type": "code",
        "colab": {}
      },
      "cell_type": "code",
      "source": [
        "df.plot(kind='scatter',\n",
        "        x='Height',\n",
        "        y='Weight',\n",
        "        title='Weight and Height in adults')\n",
        "plt.plot(X, y_pred, color='red')"
      ],
      "execution_count": 0,
      "outputs": []
    },
    {
      "metadata": {
        "id": "nEkFCycyGM32",
        "colab_type": "code",
        "colab": {}
      },
      "cell_type": "code",
      "source": [
        "W, B = model.get_weights()"
      ],
      "execution_count": 0,
      "outputs": []
    },
    {
      "metadata": {
        "id": "sX9PmiYFGM35",
        "colab_type": "code",
        "colab": {}
      },
      "cell_type": "code",
      "source": [
        "W"
      ],
      "execution_count": 0,
      "outputs": []
    },
    {
      "metadata": {
        "id": "bLycrnNkGM39",
        "colab_type": "code",
        "colab": {}
      },
      "cell_type": "code",
      "source": [
        "B"
      ],
      "execution_count": 0,
      "outputs": []
    },
    {
      "metadata": {
        "id": "kCMVHzfBGM4A",
        "colab_type": "text"
      },
      "cell_type": "markdown",
      "source": [
        "## Evaluating Model Performance\n",
        "- We also need to establish a score to compare different models.\n",
        "- Unfortunately we cannot use the cost itself as a score because its value depends on the scale used to measure features and labels.\n",
        "- Let's start by defining a better score common to use score for aggression:  R-squared score"
      ]
    },
    {
      "metadata": {
        "id": "4VH3Mgm6GM4B",
        "colab_type": "code",
        "colab": {}
      },
      "cell_type": "code",
      "source": [
        "# R-squared score compares the sum of the squares of residuals in our model with the sum of the squares\n",
        "# in a baseline model that predicts the average price \n",
        "# IF the mode is really good the sum of the squares will be  small \n",
        "# Compared to the sum of the squares and the fraction on the right will tend to be zero.\n",
        "# R2 close to one = Good score \n",
        "# R2 lower than one = Increasingly we're worse score.\n",
        "# And when you are at zero or below your Model is doing worse than the simple model of using the average price.\n",
        "\n",
        "from sklearn.metrics import r2_score"
      ],
      "execution_count": 0,
      "outputs": []
    },
    {
      "metadata": {
        "id": "NuPe3MJwGM4E",
        "colab_type": "code",
        "colab": {}
      },
      "cell_type": "code",
      "source": [
        "print(\"The R2 score is {:0.3f}\".format(r2_score(y_true, y_pred)))"
      ],
      "execution_count": 0,
      "outputs": []
    },
    {
      "metadata": {
        "id": "vGLpQMISGM4G",
        "colab_type": "text"
      },
      "cell_type": "markdown",
      "source": [
        "### Train Test Split\n",
        "- We split our data into training and test set to check how well our model is able to generalize."
      ]
    },
    {
      "metadata": {
        "id": "WLtnfk-pGM4I",
        "colab_type": "code",
        "colab": {}
      },
      "cell_type": "code",
      "source": [
        "from sklearn.model_selection import train_test_split"
      ],
      "execution_count": 0,
      "outputs": []
    },
    {
      "metadata": {
        "id": "nAdLG-QKGM4J",
        "colab_type": "code",
        "colab": {}
      },
      "cell_type": "code",
      "source": [
        "X_train, X_test, y_train, y_test = train_test_split(X, y_true,\n",
        "                                                    test_size=0.2)"
      ],
      "execution_count": 0,
      "outputs": []
    },
    {
      "metadata": {
        "id": "odCnT1dZGM4O",
        "colab_type": "code",
        "colab": {}
      },
      "cell_type": "code",
      "source": [
        "len(X_train)"
      ],
      "execution_count": 0,
      "outputs": []
    },
    {
      "metadata": {
        "id": "s4EJOHWZGM4R",
        "colab_type": "code",
        "colab": {}
      },
      "cell_type": "code",
      "source": [
        "len(X_test)"
      ],
      "execution_count": 0,
      "outputs": []
    },
    {
      "metadata": {
        "id": "AGgBFyRuGM4X",
        "colab_type": "code",
        "colab": {}
      },
      "cell_type": "code",
      "source": [
        "W[0, 0] = 0.0\n",
        "B[0] = 0.0\n",
        "model.set_weights((W, B))"
      ],
      "execution_count": 0,
      "outputs": []
    },
    {
      "metadata": {
        "id": "hak0dbF1GM4Y",
        "colab_type": "code",
        "colab": {}
      },
      "cell_type": "code",
      "source": [
        "model.fit(X_train, y_train, epochs=50, verbose=0)"
      ],
      "execution_count": 0,
      "outputs": []
    },
    {
      "metadata": {
        "id": "tiGcFx-OGM4b",
        "colab_type": "code",
        "colab": {}
      },
      "cell_type": "code",
      "source": [
        "y_train_pred = model.predict(X_train).ravel()\n",
        "y_test_pred = model.predict(X_test).ravel()"
      ],
      "execution_count": 0,
      "outputs": []
    },
    {
      "metadata": {
        "id": "iQpScw6EGM4e",
        "colab_type": "code",
        "colab": {}
      },
      "cell_type": "code",
      "source": [
        "from sklearn.metrics import mean_squared_error as mse"
      ],
      "execution_count": 0,
      "outputs": []
    },
    {
      "metadata": {
        "id": "MQg1B_FDGM4g",
        "colab_type": "code",
        "colab": {}
      },
      "cell_type": "code",
      "source": [
        "# Values that are close together are great because it means that our model is generalizing on the training and on the test.\n",
        "print(\"The Mean Squared Error on the Train set is:\\t{:0.1f}\".format(mse(y_train, y_train_pred)))\n",
        "print(\"The Mean Squared Error on the Test set is:\\t{:0.1f}\".format(mse(y_test, y_test_pred)))"
      ],
      "execution_count": 0,
      "outputs": []
    },
    {
      "metadata": {
        "id": "BsRQ0uHDGM4k",
        "colab_type": "code",
        "colab": {}
      },
      "cell_type": "code",
      "source": [
        "# What matters here is not only how high your R-squared (remember closer to one the better) \n",
        "# What is most important here is that the score for train and test is close, this mean your model is generalizing\n",
        "\n",
        "from sklearn.metrics import r2_score\n",
        "print(\"The R2 score on the Train set is:\\t{:0.3f}\".format(r2_score(y_train, y_train_pred)))\n",
        "print(\"The R2 score on the Test set is:\\t{:0.3f}\".format(r2_score(y_test, y_test_pred)))"
      ],
      "execution_count": 0,
      "outputs": []
    },
    {
      "metadata": {
        "id": "ZQHZQ-NjGM4m",
        "colab_type": "text"
      },
      "cell_type": "markdown",
      "source": [
        "# Machine Learning Exercises"
      ]
    },
    {
      "metadata": {
        "id": "CjtOaW8OGM4p",
        "colab_type": "text"
      },
      "cell_type": "markdown",
      "source": [
        "## Exercise 1\n",
        "\n",
        "You've just been hired at a real estate investment firm and they would like you to build a model for pricing houses. You are given a dataset that contains data for house prices and a few features like number of bedrooms, size in square feet and age of the house. Let's see if you can build a model that is able to predict the price. In this exercise we extend what we have learned about linear regression to a dataset with more than one feature. Here are the steps to complete it:\n",
        "\n",
        "1. Load the dataset ./e-ml-workshop/data/housing-data.csv\n",
        "- plot the histograms for each feature\n",
        "- create 2 variables called X and y: X shall be a matrix with 3 columns (sqft,bdrms,age) and y shall be a vector with 1 column (price)\n",
        "- create a linear regression model in Keras with the appropriate number of inputs and output\n",
        "- split the data into train and test with a 20% test size\n",
        "- train the model on the training set and check its accuracy on training and test set\n",
        "- how's your model doing? Is the loss growing smaller?\n",
        "- try to improve your model with these experiments:\n",
        "    - normalize the input features with one of the rescaling techniques mentioned above\n",
        "    - use a different value for the learning rate of your model\n",
        "    - use a different optimizer\n",
        "- once you're satisfied with training, check the R2score on the test set"
      ]
    },
    {
      "metadata": {
        "id": "i6aUF3XCGM4p",
        "colab_type": "code",
        "colab": {}
      },
      "cell_type": "code",
      "source": [
        ""
      ],
      "execution_count": 0,
      "outputs": []
    },
    {
      "metadata": {
        "id": "2U23a02zGM4r",
        "colab_type": "text"
      },
      "cell_type": "markdown",
      "source": [
        "# You've just learned the basic ingredients of a neural network.\n",
        "\n",
        "- Learned about hypothesis.\n",
        "- You've learned about cost and \n",
        "- You've learned about optimization."
      ]
    }
  ]
}