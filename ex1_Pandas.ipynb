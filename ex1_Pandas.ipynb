{
  "nbformat": 4,
  "nbformat_minor": 0,
  "metadata": {
    "colab": {
      "name": "ex0 - Pandas.ipynb",
      "version": "0.3.2",
      "provenance": []
    },
    "kernelspec": {
      "display_name": "Python 3",
      "language": "python",
      "name": "python3"
    }
  },
  "cells": [
    {
      "metadata": {
        "id": "jvKsrxA1Crsh",
        "colab_type": "text"
      },
      "cell_type": "markdown",
      "source": [
        "# Data Exploration with Pandas"
      ]
    },
    {
      "metadata": {
        "id": "ql7gL9N3CspQ",
        "colab_type": "code",
        "colab": {}
      },
      "cell_type": "code",
      "source": [
        "!git clone https://github.com/ArctiqTeam/e-ml-workshop\n"
      ],
      "execution_count": 0,
      "outputs": []
    },
    {
      "metadata": {
        "id": "A0dR8PxDCrsj",
        "colab_type": "code",
        "colab": {}
      },
      "cell_type": "code",
      "source": [
        "%matplotlib inline\n",
        "import matplotlib.pyplot as plt\n",
        "import pandas as pd\n",
        "import numpy as np"
      ],
      "execution_count": 0,
      "outputs": []
    },
    {
      "metadata": {
        "id": "mK3OrHHNCrsn",
        "colab_type": "code",
        "colab": {}
      },
      "cell_type": "code",
      "source": [
        "df = pd.read_csv('./e-ml-workshop/data/titanic-train.csv')"
      ],
      "execution_count": 0,
      "outputs": []
    },
    {
      "metadata": {
        "id": "x3SQzP-qCrsp",
        "colab_type": "code",
        "colab": {}
      },
      "cell_type": "code",
      "source": [
        "type(df)"
      ],
      "execution_count": 0,
      "outputs": []
    },
    {
      "metadata": {
        "id": "LRCqBApGCrss",
        "colab_type": "code",
        "colab": {}
      },
      "cell_type": "code",
      "source": [
        "df.head()"
      ],
      "execution_count": 0,
      "outputs": []
    },
    {
      "metadata": {
        "id": "voUS1Cl7Crsu",
        "colab_type": "code",
        "colab": {}
      },
      "cell_type": "code",
      "source": [
        "df.info()"
      ],
      "execution_count": 0,
      "outputs": []
    },
    {
      "metadata": {
        "id": "QdWOHJvwCrsx",
        "colab_type": "code",
        "colab": {}
      },
      "cell_type": "code",
      "source": [
        "df.describe()"
      ],
      "execution_count": 0,
      "outputs": []
    },
    {
      "metadata": {
        "id": "MyOmOa5ECrsz",
        "colab_type": "text"
      },
      "cell_type": "markdown",
      "source": [
        "### Indexing"
      ]
    },
    {
      "metadata": {
        "id": "1KlmnffYCrs0",
        "colab_type": "code",
        "colab": {}
      },
      "cell_type": "code",
      "source": [
        "df.iloc[2]"
      ],
      "execution_count": 0,
      "outputs": []
    },
    {
      "metadata": {
        "id": "V_r_KNnUCrs3",
        "colab_type": "code",
        "colab": {}
      },
      "cell_type": "code",
      "source": [
        "df.loc[0:4,'Ticket']"
      ],
      "execution_count": 0,
      "outputs": []
    },
    {
      "metadata": {
        "id": "047UeG4ECrs6",
        "colab_type": "code",
        "colab": {}
      },
      "cell_type": "code",
      "source": [
        "df['Ticket'].head()"
      ],
      "execution_count": 0,
      "outputs": []
    },
    {
      "metadata": {
        "id": "iPkvC8t4Crs9",
        "colab_type": "code",
        "colab": {}
      },
      "cell_type": "code",
      "source": [
        "df[['Embarked', 'Ticket']].head()"
      ],
      "execution_count": 0,
      "outputs": []
    },
    {
      "metadata": {
        "id": "dkywQnLmCrs_",
        "colab_type": "text"
      },
      "cell_type": "markdown",
      "source": [
        "### Selections"
      ]
    },
    {
      "metadata": {
        "id": "s2olMoc_CrtA",
        "colab_type": "code",
        "colab": {}
      },
      "cell_type": "code",
      "source": [
        "df[df['Age'] > 70]"
      ],
      "execution_count": 0,
      "outputs": []
    },
    {
      "metadata": {
        "id": "se25UxKWCrtD",
        "colab_type": "code",
        "colab": {}
      },
      "cell_type": "code",
      "source": [
        "df['Age'] > 30"
      ],
      "execution_count": 0,
      "outputs": []
    },
    {
      "metadata": {
        "id": "ZzrXIvTNCrtE",
        "colab_type": "code",
        "colab": {}
      },
      "cell_type": "code",
      "source": [
        "df.query(\"Age > 70\")"
      ],
      "execution_count": 0,
      "outputs": []
    },
    {
      "metadata": {
        "id": "8IWNjs1XCrtH",
        "colab_type": "code",
        "colab": {}
      },
      "cell_type": "code",
      "source": [
        "df[(df['Age'] == 11) & (df['SibSp'] == 5)]"
      ],
      "execution_count": 0,
      "outputs": []
    },
    {
      "metadata": {
        "id": "ciY3EzMkCrtJ",
        "colab_type": "code",
        "colab": {}
      },
      "cell_type": "code",
      "source": [
        "df[(df.Age == 11) | (df.SibSp == 5)]"
      ],
      "execution_count": 0,
      "outputs": []
    },
    {
      "metadata": {
        "id": "sqkp9w-LCrtM",
        "colab_type": "code",
        "colab": {}
      },
      "cell_type": "code",
      "source": [
        "df.query('(Age == 11) | (SibSp == 5)')"
      ],
      "execution_count": 0,
      "outputs": []
    },
    {
      "metadata": {
        "id": "AvkMb8VwCrtQ",
        "colab_type": "text"
      },
      "cell_type": "markdown",
      "source": [
        "### Unique Values"
      ]
    },
    {
      "metadata": {
        "id": "8yyhykndCrtS",
        "colab_type": "code",
        "colab": {}
      },
      "cell_type": "code",
      "source": [
        "df['Embarked'].unique()"
      ],
      "execution_count": 0,
      "outputs": []
    },
    {
      "metadata": {
        "id": "fLxmoHk7CrtW",
        "colab_type": "text"
      },
      "cell_type": "markdown",
      "source": [
        "### Sorting"
      ]
    },
    {
      "metadata": {
        "id": "tLlp28GJCrtX",
        "colab_type": "code",
        "colab": {}
      },
      "cell_type": "code",
      "source": [
        "df.sort_values('Age', ascending = False).head()"
      ],
      "execution_count": 0,
      "outputs": []
    },
    {
      "metadata": {
        "id": "gmap1u4rCrta",
        "colab_type": "text"
      },
      "cell_type": "markdown",
      "source": [
        "### Aggregations"
      ]
    },
    {
      "metadata": {
        "id": "qVPp49guCrtb",
        "colab_type": "code",
        "colab": {}
      },
      "cell_type": "code",
      "source": [
        "df['Survived'].value_counts()"
      ],
      "execution_count": 0,
      "outputs": []
    },
    {
      "metadata": {
        "id": "7_HXetDnCrte",
        "colab_type": "code",
        "colab": {}
      },
      "cell_type": "code",
      "source": [
        "df['Pclass'].value_counts()"
      ],
      "execution_count": 0,
      "outputs": []
    },
    {
      "metadata": {
        "id": "DB3-aEowCrtg",
        "colab_type": "code",
        "colab": {}
      },
      "cell_type": "code",
      "source": [
        "df.groupby(['Pclass', 'Survived'])['PassengerId'].count()"
      ],
      "execution_count": 0,
      "outputs": []
    },
    {
      "metadata": {
        "id": "fYxl17K8Crtj",
        "colab_type": "code",
        "colab": {}
      },
      "cell_type": "code",
      "source": [
        "df['Age'].min()"
      ],
      "execution_count": 0,
      "outputs": []
    },
    {
      "metadata": {
        "id": "BmEg5ck6Crtl",
        "colab_type": "code",
        "colab": {}
      },
      "cell_type": "code",
      "source": [
        "df['Age'].max()"
      ],
      "execution_count": 0,
      "outputs": []
    },
    {
      "metadata": {
        "id": "XTSyVR2qCrtm",
        "colab_type": "code",
        "colab": {}
      },
      "cell_type": "code",
      "source": [
        "df['Age'].mean()"
      ],
      "execution_count": 0,
      "outputs": []
    },
    {
      "metadata": {
        "id": "aY448HBhCrtp",
        "colab_type": "code",
        "colab": {}
      },
      "cell_type": "code",
      "source": [
        "df['Age'].median()"
      ],
      "execution_count": 0,
      "outputs": []
    },
    {
      "metadata": {
        "id": "TcHtsGYaCrtq",
        "colab_type": "code",
        "colab": {}
      },
      "cell_type": "code",
      "source": [
        "mean_age_by_survived = df.groupby('Survived')['Age'].mean()\n",
        "mean_age_by_survived"
      ],
      "execution_count": 0,
      "outputs": []
    },
    {
      "metadata": {
        "id": "aDmp_x83Crtu",
        "colab_type": "code",
        "colab": {}
      },
      "cell_type": "code",
      "source": [
        "std_age_by_survived = df.groupby('Survived')['Age'].std()\n",
        "std_age_by_survived"
      ],
      "execution_count": 0,
      "outputs": []
    },
    {
      "metadata": {
        "id": "lKDVyRttCrtw",
        "colab_type": "text"
      },
      "cell_type": "markdown",
      "source": [
        "### Merge"
      ]
    },
    {
      "metadata": {
        "id": "ICCaO96jCrtw",
        "colab_type": "code",
        "colab": {}
      },
      "cell_type": "code",
      "source": [
        "df1 = mean_age_by_survived.round(0).reset_index()\n",
        "df2 = std_age_by_survived.round(0).reset_index()"
      ],
      "execution_count": 0,
      "outputs": []
    },
    {
      "metadata": {
        "id": "mFeuJ6QXCrty",
        "colab_type": "code",
        "colab": {}
      },
      "cell_type": "code",
      "source": [
        "df1"
      ],
      "execution_count": 0,
      "outputs": []
    },
    {
      "metadata": {
        "id": "t67LSxfXCrt1",
        "colab_type": "code",
        "colab": {}
      },
      "cell_type": "code",
      "source": [
        "df2"
      ],
      "execution_count": 0,
      "outputs": []
    },
    {
      "metadata": {
        "id": "MCULCnETCrt3",
        "colab_type": "code",
        "colab": {}
      },
      "cell_type": "code",
      "source": [
        "df3 = pd.merge(df1, df2, on='Survived')"
      ],
      "execution_count": 0,
      "outputs": []
    },
    {
      "metadata": {
        "id": "W5VX12ExCrt6",
        "colab_type": "code",
        "colab": {}
      },
      "cell_type": "code",
      "source": [
        "df3"
      ],
      "execution_count": 0,
      "outputs": []
    },
    {
      "metadata": {
        "id": "1gd5qS3mCrt9",
        "colab_type": "code",
        "colab": {}
      },
      "cell_type": "code",
      "source": [
        "df3.columns = ['Survived', 'Average Age', 'Age Standard Deviation']"
      ],
      "execution_count": 0,
      "outputs": []
    },
    {
      "metadata": {
        "id": "iYuwFkGwCrt_",
        "colab_type": "code",
        "colab": {}
      },
      "cell_type": "code",
      "source": [
        "df3"
      ],
      "execution_count": 0,
      "outputs": []
    },
    {
      "metadata": {
        "id": "hozlXzoOCruA",
        "colab_type": "text"
      },
      "cell_type": "markdown",
      "source": [
        "### Pivot Tables"
      ]
    },
    {
      "metadata": {
        "id": "1PPl-ELhCruB",
        "colab_type": "code",
        "colab": {}
      },
      "cell_type": "code",
      "source": [
        "df.pivot_table(index='Pclass',\n",
        "               columns='Survived',\n",
        "               values='PassengerId',\n",
        "               aggfunc='count')"
      ],
      "execution_count": 0,
      "outputs": []
    },
    {
      "metadata": {
        "id": "LRbHllAtCruD",
        "colab_type": "text"
      },
      "cell_type": "markdown",
      "source": [
        "### Correlations"
      ]
    },
    {
      "metadata": {
        "id": "k9RmMzePCruE",
        "colab_type": "code",
        "colab": {}
      },
      "cell_type": "code",
      "source": [
        "df['IsFemale'] = df['Sex'] == 'female'"
      ],
      "execution_count": 0,
      "outputs": []
    },
    {
      "metadata": {
        "id": "Y9p4EEfrCruG",
        "colab_type": "code",
        "colab": {}
      },
      "cell_type": "code",
      "source": [
        "correlated_with_survived = df.corr()['Survived'].sort_values()\n",
        "correlated_with_survived"
      ],
      "execution_count": 0,
      "outputs": []
    },
    {
      "metadata": {
        "id": "6i0SqfYqCruI",
        "colab_type": "code",
        "colab": {}
      },
      "cell_type": "code",
      "source": [
        "%matplotlib inline"
      ],
      "execution_count": 0,
      "outputs": []
    },
    {
      "metadata": {
        "id": "ZdccJc4cCruM",
        "colab_type": "code",
        "colab": {}
      },
      "cell_type": "code",
      "source": [
        "correlated_with_survived.iloc[:-1].plot(kind='bar',\n",
        "                                        title='Titanic Passengers: correlation with survival')"
      ],
      "execution_count": 0,
      "outputs": []
    },
    {
      "metadata": {
        "id": "c0DNyMAcCruO",
        "colab_type": "text"
      },
      "cell_type": "markdown",
      "source": [
        "# Visual Data Exploration with Matplotlib"
      ]
    },
    {
      "metadata": {
        "id": "4zJWHJTlCruR",
        "colab_type": "code",
        "colab": {}
      },
      "cell_type": "code",
      "source": [
        "data1 = np.random.normal(0, 0.1, 1000)\n",
        "data2 = np.random.normal(1, 0.4, 1000) + np.linspace(0, 1, 1000)\n",
        "data3 = 2 + np.random.random(1000) * np.linspace(1, 5, 1000)\n",
        "data4 = np.random.normal(3, 0.2, 1000) + 0.3 * np.sin(np.linspace(0, 20, 1000))"
      ],
      "execution_count": 0,
      "outputs": []
    },
    {
      "metadata": {
        "id": "ia6tJTLuCruU",
        "colab_type": "code",
        "colab": {}
      },
      "cell_type": "code",
      "source": [
        "data = np.vstack([data1, data2, data3, data4]).transpose()"
      ],
      "execution_count": 0,
      "outputs": []
    },
    {
      "metadata": {
        "id": "u2BWgvCRCruV",
        "colab_type": "code",
        "colab": {}
      },
      "cell_type": "code",
      "source": [
        "df = pd.DataFrame(data, columns=['data1', 'data2', 'data3', 'data4'])\n",
        "df.head()"
      ],
      "execution_count": 0,
      "outputs": []
    },
    {
      "metadata": {
        "id": "UNW_jTxiCruY",
        "colab_type": "text"
      },
      "cell_type": "markdown",
      "source": [
        "### Line Plot"
      ]
    },
    {
      "metadata": {
        "id": "u3BUNO68Crua",
        "colab_type": "code",
        "colab": {}
      },
      "cell_type": "code",
      "source": [
        "df.plot(title='Line plot')"
      ],
      "execution_count": 0,
      "outputs": []
    },
    {
      "metadata": {
        "id": "WSC-FiAQCrub",
        "colab_type": "code",
        "colab": {}
      },
      "cell_type": "code",
      "source": [
        "plt.plot(df)\n",
        "plt.title('Line plot')\n",
        "plt.legend(['data1', 'data2', 'data3', 'data4'])"
      ],
      "execution_count": 0,
      "outputs": []
    },
    {
      "metadata": {
        "id": "ub7MMjNzCruc",
        "colab_type": "text"
      },
      "cell_type": "markdown",
      "source": [
        "### Scatter Plot"
      ]
    },
    {
      "metadata": {
        "id": "TCufhwF3Crud",
        "colab_type": "code",
        "colab": {}
      },
      "cell_type": "code",
      "source": [
        "df.plot(style='.')"
      ],
      "execution_count": 0,
      "outputs": []
    },
    {
      "metadata": {
        "id": "U-lI3IqDCrug",
        "colab_type": "code",
        "colab": {}
      },
      "cell_type": "code",
      "source": [
        "_ = df.plot(kind='scatter', x='data1', y='data2',\n",
        "            xlim=(-1.5, 1.5), ylim=(0, 3))"
      ],
      "execution_count": 0,
      "outputs": []
    },
    {
      "metadata": {
        "id": "gdKFN1frCrui",
        "colab_type": "text"
      },
      "cell_type": "markdown",
      "source": [
        "### Histograms"
      ]
    },
    {
      "metadata": {
        "id": "pkVKtIOnCrui",
        "colab_type": "code",
        "colab": {}
      },
      "cell_type": "code",
      "source": [
        "df.plot(kind='hist',\n",
        "        bins=50,\n",
        "        title='Histogram',\n",
        "        alpha=0.6)"
      ],
      "execution_count": 0,
      "outputs": []
    },
    {
      "metadata": {
        "id": "3IU_SSHSCruj",
        "colab_type": "text"
      },
      "cell_type": "markdown",
      "source": [
        "### Cumulative distribution"
      ]
    },
    {
      "metadata": {
        "id": "oWiMYpyICruk",
        "colab_type": "code",
        "colab": {}
      },
      "cell_type": "code",
      "source": [
        "df.plot(kind='hist',\n",
        "        bins=100,\n",
        "        title='Cumulative distributions',\n",
        "        normed=True,\n",
        "        cumulative=True,\n",
        "        alpha=0.4)"
      ],
      "execution_count": 0,
      "outputs": []
    },
    {
      "metadata": {
        "id": "qcfJvFHKCrum",
        "colab_type": "text"
      },
      "cell_type": "markdown",
      "source": [
        "### Box Plot"
      ]
    },
    {
      "metadata": {
        "id": "I06WjWk9Crum",
        "colab_type": "code",
        "colab": {}
      },
      "cell_type": "code",
      "source": [
        "df.plot(kind='box',\n",
        "        title='Boxplot')"
      ],
      "execution_count": 0,
      "outputs": []
    },
    {
      "metadata": {
        "id": "IULTcBA1Crur",
        "colab_type": "text"
      },
      "cell_type": "markdown",
      "source": [
        "### Subplots"
      ]
    },
    {
      "metadata": {
        "id": "qrIGZ6xJCrus",
        "colab_type": "code",
        "colab": {}
      },
      "cell_type": "code",
      "source": [
        "fig, ax = plt.subplots(2, 2, figsize=(5, 5))\n",
        "\n",
        "df.plot(ax=ax[0][0],\n",
        "        title='Line plot')\n",
        "\n",
        "df.plot(ax=ax[0][1],\n",
        "        style='o',\n",
        "        title='Scatter plot')\n",
        "\n",
        "df.plot(ax=ax[1][0],\n",
        "        kind='hist',\n",
        "        bins=50,\n",
        "        title='Histogram')\n",
        "\n",
        "df.plot(ax=ax[1][1],\n",
        "        kind='box',\n",
        "        title='Boxplot')\n",
        "\n",
        "plt.tight_layout()"
      ],
      "execution_count": 0,
      "outputs": []
    },
    {
      "metadata": {
        "id": "bpiijjIgCrut",
        "colab_type": "text"
      },
      "cell_type": "markdown",
      "source": [
        "### Pie charts"
      ]
    },
    {
      "metadata": {
        "id": "Ua7NcvK7Cruu",
        "colab_type": "code",
        "colab": {}
      },
      "cell_type": "code",
      "source": [
        "gt01 = df['data1'] > 0.1\n",
        "piecounts = gt01.value_counts()\n",
        "piecounts"
      ],
      "execution_count": 0,
      "outputs": []
    },
    {
      "metadata": {
        "id": "ovbyyqxcCruv",
        "colab_type": "code",
        "colab": {}
      },
      "cell_type": "code",
      "source": [
        "piecounts.plot(kind='pie',\n",
        "               figsize=(5, 5),\n",
        "               explode=[0, 0.15],\n",
        "               labels=['<= 0.1', '> 0.1'],\n",
        "               autopct='%1.1f%%',\n",
        "               shadow=True,\n",
        "               startangle=90,\n",
        "               fontsize=16)"
      ],
      "execution_count": 0,
      "outputs": []
    },
    {
      "metadata": {
        "id": "PnWwsi5dCrux",
        "colab_type": "text"
      },
      "cell_type": "markdown",
      "source": [
        "### Hexbin plot"
      ]
    },
    {
      "metadata": {
        "id": "tPo_rqlSCruy",
        "colab_type": "code",
        "colab": {}
      },
      "cell_type": "code",
      "source": [
        "data = np.vstack([np.random.normal((0, 0), 2, size=(1000, 2)),\n",
        "                  np.random.normal((9, 9), 3, size=(2000, 2))])\n",
        "df = pd.DataFrame(data, columns=['x', 'y'])"
      ],
      "execution_count": 0,
      "outputs": []
    },
    {
      "metadata": {
        "id": "z05UBF1fCruz",
        "colab_type": "code",
        "colab": {}
      },
      "cell_type": "code",
      "source": [
        "df.head()"
      ],
      "execution_count": 0,
      "outputs": []
    },
    {
      "metadata": {
        "id": "lK19bS1PCru1",
        "colab_type": "code",
        "colab": {}
      },
      "cell_type": "code",
      "source": [
        "df.plot()"
      ],
      "execution_count": 0,
      "outputs": []
    },
    {
      "metadata": {
        "id": "f-3PjvXLCru2",
        "colab_type": "code",
        "colab": {}
      },
      "cell_type": "code",
      "source": [
        "df.plot(kind='kde')"
      ],
      "execution_count": 0,
      "outputs": []
    },
    {
      "metadata": {
        "id": "9aFmQ71cCru5",
        "colab_type": "code",
        "colab": {}
      },
      "cell_type": "code",
      "source": [
        "df.plot(kind='hexbin', x='x', y='y', bins=100, cmap='rainbow')"
      ],
      "execution_count": 0,
      "outputs": []
    },
    {
      "metadata": {
        "id": "jlwkXbsBCru6",
        "colab_type": "text"
      },
      "cell_type": "markdown",
      "source": [
        "# Unstructured data"
      ]
    },
    {
      "metadata": {
        "id": "H-3K1xvCCru6",
        "colab_type": "text"
      },
      "cell_type": "markdown",
      "source": [
        "### Images"
      ]
    },
    {
      "metadata": {
        "id": "yGb_R6N4Cru7",
        "colab_type": "code",
        "colab": {}
      },
      "cell_type": "code",
      "source": [
        "from PIL import Image"
      ],
      "execution_count": 0,
      "outputs": []
    },
    {
      "metadata": {
        "id": "mbvldf2nCru-",
        "colab_type": "code",
        "colab": {}
      },
      "cell_type": "code",
      "source": [
        "img = Image.open('./e-ml-workshop/data/iss.jpg')\n",
        "img"
      ],
      "execution_count": 0,
      "outputs": []
    },
    {
      "metadata": {
        "id": "I5HKZtOsCru_",
        "colab_type": "code",
        "colab": {}
      },
      "cell_type": "code",
      "source": [
        "type(img)"
      ],
      "execution_count": 0,
      "outputs": []
    },
    {
      "metadata": {
        "id": "ZzpfgvT4CrvB",
        "colab_type": "code",
        "colab": {}
      },
      "cell_type": "code",
      "source": [
        "imgarray = np.asarray(img)"
      ],
      "execution_count": 0,
      "outputs": []
    },
    {
      "metadata": {
        "id": "CUemjX6ICrvD",
        "colab_type": "code",
        "colab": {}
      },
      "cell_type": "code",
      "source": [
        "type(imgarray)"
      ],
      "execution_count": 0,
      "outputs": []
    },
    {
      "metadata": {
        "id": "MP_bOlv2CrvF",
        "colab_type": "code",
        "colab": {}
      },
      "cell_type": "code",
      "source": [
        "imgarray.shape"
      ],
      "execution_count": 0,
      "outputs": []
    },
    {
      "metadata": {
        "id": "x1b9VrF9CrvG",
        "colab_type": "code",
        "colab": {}
      },
      "cell_type": "code",
      "source": [
        "something=imgarray.ravel()"
      ],
      "execution_count": 0,
      "outputs": []
    },
    {
      "metadata": {
        "id": "Kb4zDoYICrvI",
        "colab_type": "code",
        "colab": {}
      },
      "cell_type": "code",
      "source": [
        "435 * 640 * 3"
      ],
      "execution_count": 0,
      "outputs": []
    },
    {
      "metadata": {
        "id": "rW0j9BlnCrvJ",
        "colab_type": "code",
        "colab": {}
      },
      "cell_type": "code",
      "source": [
        "something.shape"
      ],
      "execution_count": 0,
      "outputs": []
    },
    {
      "metadata": {
        "id": "hARQNW9bCrvL",
        "colab_type": "text"
      },
      "cell_type": "markdown",
      "source": [
        "### Sound"
      ]
    },
    {
      "metadata": {
        "id": "_WEwfcY5CrvL",
        "colab_type": "code",
        "colab": {}
      },
      "cell_type": "code",
      "source": [
        "from scipy.io import wavfile"
      ],
      "execution_count": 0,
      "outputs": []
    },
    {
      "metadata": {
        "id": "MM3w0S_RCrvQ",
        "colab_type": "code",
        "colab": {}
      },
      "cell_type": "code",
      "source": [
        "rate, snd = wavfile.read(filename='./e-ml-workshop/data/sms.wav')"
      ],
      "execution_count": 0,
      "outputs": []
    },
    {
      "metadata": {
        "id": "zf3EaStDCrvR",
        "colab_type": "code",
        "colab": {}
      },
      "cell_type": "code",
      "source": [
        "from IPython.display import Audio"
      ],
      "execution_count": 0,
      "outputs": []
    },
    {
      "metadata": {
        "id": "FRWuLNpxCrvS",
        "colab_type": "code",
        "colab": {}
      },
      "cell_type": "code",
      "source": [
        "Audio(data=snd, rate=rate)"
      ],
      "execution_count": 0,
      "outputs": []
    },
    {
      "metadata": {
        "id": "AjC0VdSgCrvW",
        "colab_type": "code",
        "colab": {}
      },
      "cell_type": "code",
      "source": [
        "len(snd)"
      ],
      "execution_count": 0,
      "outputs": []
    },
    {
      "metadata": {
        "id": "cgbpEeO3CrvX",
        "colab_type": "code",
        "colab": {}
      },
      "cell_type": "code",
      "source": [
        "snd"
      ],
      "execution_count": 0,
      "outputs": []
    },
    {
      "metadata": {
        "id": "SFn3qToTCrvY",
        "colab_type": "code",
        "colab": {}
      },
      "cell_type": "code",
      "source": [
        "plt.plot(snd)"
      ],
      "execution_count": 0,
      "outputs": []
    },
    {
      "metadata": {
        "id": "g1RxuRdXCrvZ",
        "colab_type": "code",
        "colab": {}
      },
      "cell_type": "code",
      "source": [
        "_ = plt.specgram(snd, NFFT=1024, Fs=44100)\n",
        "plt.ylabel('Frequency (Hz)')\n",
        "plt.xlabel('Time (s)')"
      ],
      "execution_count": 0,
      "outputs": []
    },
    {
      "metadata": {
        "id": "9jRPVqeYCrva",
        "colab_type": "text"
      },
      "cell_type": "markdown",
      "source": [
        "# Data Exploration Exercises"
      ]
    },
    {
      "metadata": {
        "id": "RYJ-NKByCrvb",
        "colab_type": "text"
      },
      "cell_type": "markdown",
      "source": [
        "## Exercise 1\n",
        "- load the dataset: `./e-ml-workshop/data/international-airline-passengers.csv`\n",
        "- inspect it using the `.info()` and `.head()` commands\n",
        "- use the function [`pd.to_datetime()`](http://pandas.pydata.org/pandas-docs/version/0.20/generated/pandas.to_datetime.html) to change the column type of 'Month' to a datatime type\n",
        "- set the index of df to be a datetime index using the column 'Month' and the `df.set_index()` method\n",
        "- choose the appropriate plot and display the data\n",
        "- choose appropriate scale\n",
        "- label the axes"
      ]
    },
    {
      "metadata": {
        "id": "Jj6QnLloCrvb",
        "colab_type": "code",
        "colab": {}
      },
      "cell_type": "code",
      "source": [
        ""
      ],
      "execution_count": 0,
      "outputs": []
    },
    {
      "metadata": {
        "id": "aOGGRmBMCrve",
        "colab_type": "text"
      },
      "cell_type": "markdown",
      "source": [
        "## Exercise 2\n",
        "- load the dataset: `./e-ml-workshop/data/weight-height.csv`\n",
        "- inspect it\n",
        "- plot it using a scatter plot with Weight as a function of Height\n",
        "- plot the male and female populations with 2 different colors on a new scatter plot\n",
        "- remember to label the axes"
      ]
    },
    {
      "metadata": {
        "id": "G0awbfIXCrvf",
        "colab_type": "code",
        "colab": {}
      },
      "cell_type": "code",
      "source": [
        ""
      ],
      "execution_count": 0,
      "outputs": []
    },
    {
      "metadata": {
        "id": "bCxHp2V-Crvg",
        "colab_type": "text"
      },
      "cell_type": "markdown",
      "source": [
        "## Exercise 3\n",
        "- plot the histogram of the heights for males and for females on the same plot\n",
        "- use alpha to control transparency in the plot comand\n",
        "- plot a vertical line at the mean of each population using `plt.axvline()`"
      ]
    },
    {
      "metadata": {
        "id": "sBHy0PfqCrvh",
        "colab_type": "code",
        "colab": {}
      },
      "cell_type": "code",
      "source": [
        ""
      ],
      "execution_count": 0,
      "outputs": []
    },
    {
      "metadata": {
        "id": "JSpWCR_yCrvh",
        "colab_type": "text"
      },
      "cell_type": "markdown",
      "source": [
        "## Exercise 4\n",
        "- plot the weights of the males and females using a box plot\n",
        "- which one is easier to read?\n",
        "- (remember to put in titles, axes and legends)"
      ]
    },
    {
      "metadata": {
        "id": "yw2YZi0CCrvh",
        "colab_type": "code",
        "colab": {}
      },
      "cell_type": "code",
      "source": [
        ""
      ],
      "execution_count": 0,
      "outputs": []
    },
    {
      "metadata": {
        "id": "OYv12SNoCrvi",
        "colab_type": "text"
      },
      "cell_type": "markdown",
      "source": [
        "## Exercise 5\n",
        "- load the dataset: `./e-ml-workshop/data/titanic-train.csv`\n",
        "- learn about scattermatrix here: http://pandas.pydata.org/pandas-docs/stable/visualization.html\n",
        "- display the data using a scattermatrix"
      ]
    },
    {
      "metadata": {
        "id": "3_Y3iFCsCrvj",
        "colab_type": "code",
        "colab": {}
      },
      "cell_type": "code",
      "source": [
        ""
      ],
      "execution_count": 0,
      "outputs": []
    }
  ]
}