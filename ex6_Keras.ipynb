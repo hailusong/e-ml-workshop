{
  "nbformat": 4,
  "nbformat_minor": 0,
  "metadata": {
    "colab": {
      "name": "ex7 - Keras.ipynb",
      "version": "0.3.2",
      "provenance": []
    },
    "kernelspec": {
      "name": "python3",
      "display_name": "Python 3"
    },
    "accelerator": "GPU"
  },
  "cells": [
    {
      "metadata": {
        "id": "L5ilH0jAQirI",
        "colab_type": "text"
      },
      "cell_type": "markdown",
      "source": [
        "# Introducing Keras\n",
        "\n",
        "Be sure to be using tensorflow 1.9 or newer!\n",
        "\n",
        "Keras is a higher-level API within TensorFlow that makes things a lot easier. Not only is it easier to use, it's easier to tune.\n",
        "\n",
        "Let's set up the same deep neural network we set up with TensorFlow to learn from the MNIST data set.\n",
        "\n",
        "First we'll import all the stuff we need, which will initialize Keras as a side effect:"
      ]
    },
    {
      "metadata": {
        "id": "bT70OltzQirL",
        "colab_type": "code",
        "colab": {}
      },
      "cell_type": "code",
      "source": [
        "from tensorflow import keras\n",
        "from tensorflow.keras.datasets import mnist\n",
        "from tensorflow.keras.models import Sequential\n",
        "from tensorflow.keras.layers import Dense, Dropout\n",
        "from tensorflow.keras.optimizers import RMSprop"
      ],
      "execution_count": 0,
      "outputs": []
    },
    {
      "metadata": {
        "id": "44eLrkPcQirP",
        "colab_type": "text"
      },
      "cell_type": "markdown",
      "source": [
        "We'll load up the MNIST data set. In Keras, it's a little bit different - there are 60K training samples and 10K test samples. No \"validation\" samples."
      ]
    },
    {
      "metadata": {
        "id": "IormByl-QirR",
        "colab_type": "code",
        "colab": {}
      },
      "cell_type": "code",
      "source": [
        "(mnist_train_images, mnist_train_labels), (mnist_test_images, mnist_test_labels) = mnist.load_data()"
      ],
      "execution_count": 0,
      "outputs": []
    },
    {
      "metadata": {
        "id": "8K3rrO98QirT",
        "colab_type": "text"
      },
      "cell_type": "markdown",
      "source": [
        "We need to explicitly convert the data into the format Keras / TensorFlow expects. We divide the image data by 255 in order to normalize it into 0-1 range, after converting it into floating point values."
      ]
    },
    {
      "metadata": {
        "id": "bnbKS8hhQirU",
        "colab_type": "code",
        "colab": {}
      },
      "cell_type": "code",
      "source": [
        "train_images = mnist_train_images.reshape(60000, 784)\n",
        "test_images = mnist_test_images.reshape(10000, 784)\n",
        "train_images = train_images.astype('float32')\n",
        "test_images = test_images.astype('float32')\n",
        "train_images /= 255\n",
        "test_images /= 255"
      ],
      "execution_count": 0,
      "outputs": []
    },
    {
      "metadata": {
        "id": "d7wNCdHmQirW",
        "colab_type": "text"
      },
      "cell_type": "markdown",
      "source": [
        "Now we'll convert the 0-9 labels into \"one-hot\" format, as we did for TensorFlow."
      ]
    },
    {
      "metadata": {
        "id": "E-qoRHcAQirX",
        "colab_type": "code",
        "colab": {}
      },
      "cell_type": "code",
      "source": [
        "train_labels = keras.utils.to_categorical(mnist_train_labels, 10)\n",
        "test_labels = keras.utils.to_categorical(mnist_test_labels, 10)"
      ],
      "execution_count": 0,
      "outputs": []
    },
    {
      "metadata": {
        "id": "s6qHK-2wQira",
        "colab_type": "text"
      },
      "cell_type": "markdown",
      "source": [
        "Let's take a peek at one of the training images just to make sure it looks OK:"
      ]
    },
    {
      "metadata": {
        "id": "TXulKVxIQirb",
        "colab_type": "code",
        "colab": {}
      },
      "cell_type": "code",
      "source": [
        "import matplotlib.pyplot as plt\n",
        "\n",
        "def display_sample(num):\n",
        "    #Print the one-hot array of this sample's label \n",
        "    print(train_labels[num])  \n",
        "    #Print the label converted back to a number\n",
        "    label = train_labels[num].argmax(axis=0)\n",
        "    #Reshape the 768 values to a 28x28 image\n",
        "    image = train_images[num].reshape([28,28])\n",
        "    plt.title('Sample: %d  Label: %d' % (num, label))\n",
        "    plt.imshow(image, cmap=plt.get_cmap('gray_r'))\n",
        "    plt.show()\n",
        "    \n",
        "display_sample(1234)"
      ],
      "execution_count": 0,
      "outputs": []
    },
    {
      "metadata": {
        "id": "WZqNbQAwQird",
        "colab_type": "text"
      },
      "cell_type": "markdown",
      "source": [
        "Here's where things get exciting. All that code we wrote in Tensorflow creating placeholders, variables, and defining a bunch of linear algebra for each layer in our neural network? None of that is necessary with Keras!\n",
        "\n",
        "We can set up the same layers like this. The input layer of 784 features feeds into a ReLU layer of 512 nodes, which then goes into 10 nodes with softmax applied. Couldn't be simpler:"
      ]
    },
    {
      "metadata": {
        "id": "N6rorgpzQirf",
        "colab_type": "code",
        "colab": {}
      },
      "cell_type": "code",
      "source": [
        "model = Sequential()\n",
        "model.add(Dense(512, activation='relu', input_shape=(784,)))\n",
        "model.add(Dense(10, activation='softmax'))"
      ],
      "execution_count": 0,
      "outputs": []
    },
    {
      "metadata": {
        "id": "CNKglQO1Qirh",
        "colab_type": "text"
      },
      "cell_type": "markdown",
      "source": [
        "We can even get a nice description of the resulting model:"
      ]
    },
    {
      "metadata": {
        "id": "AyDDGRCVQiri",
        "colab_type": "code",
        "colab": {}
      },
      "cell_type": "code",
      "source": [
        "model.summary()"
      ],
      "execution_count": 0,
      "outputs": []
    },
    {
      "metadata": {
        "id": "de4fEiDgQirl",
        "colab_type": "text"
      },
      "cell_type": "markdown",
      "source": [
        "Setting up our optimizer and loss function is just as simple. We will use the RMSProp optimizer here. Other choices include Adagrad, SGD, Adam, Adamax, and Nadam. See https://keras.io/optimizers/"
      ]
    },
    {
      "metadata": {
        "id": "5P-C3G-qQirl",
        "colab_type": "code",
        "colab": {}
      },
      "cell_type": "code",
      "source": [
        "model.compile(loss='categorical_crossentropy',\n",
        "              optimizer=RMSprop(),\n",
        "              metrics=['accuracy'])"
      ],
      "execution_count": 0,
      "outputs": []
    },
    {
      "metadata": {
        "id": "8uouYwwQQirn",
        "colab_type": "text"
      },
      "cell_type": "markdown",
      "source": [
        "Training our model is also just one line of code with Keras. Here we'll do 10 epochs with a batch size of 100. Keras is slower, and if we're not running on top of a GPU-accelerated Tensorflow this can take a fair amount of time (that's why I've limited it to just 10 epochs.)"
      ]
    },
    {
      "metadata": {
        "id": "bbb_OdyQQiro",
        "colab_type": "code",
        "colab": {}
      },
      "cell_type": "code",
      "source": [
        "history = model.fit(train_images, train_labels,\n",
        "                    batch_size=100,\n",
        "                    epochs=10,\n",
        "                    verbose=2,\n",
        "                    validation_data=(test_images, test_labels))"
      ],
      "execution_count": 0,
      "outputs": []
    },
    {
      "metadata": {
        "id": "CEgWPPiyQirq",
        "colab_type": "text"
      },
      "cell_type": "markdown",
      "source": [
        "But, even with just 10 epochs, we've outperformed our Tensorflow version considerably!"
      ]
    },
    {
      "metadata": {
        "id": "Gwmgqa7bQirr",
        "colab_type": "code",
        "colab": {}
      },
      "cell_type": "code",
      "source": [
        "score = model.evaluate(test_images, test_labels, verbose=0)\n",
        "print('Test loss:', score[0])\n",
        "print('Test accuracy:', score[1])"
      ],
      "execution_count": 0,
      "outputs": []
    },
    {
      "metadata": {
        "id": "LIame0eIQiru",
        "colab_type": "text"
      },
      "cell_type": "markdown",
      "source": [
        "As before let's visualize the ones it got wrong. As this model is much better, we'll have to search deeper to find mistakes to look at."
      ]
    },
    {
      "metadata": {
        "id": "WoccnjD5Qirv",
        "colab_type": "code",
        "colab": {}
      },
      "cell_type": "code",
      "source": [
        "for x in range(1000):\n",
        "    test_image = test_images[x,:].reshape(1,784)\n",
        "    predicted_cat = model.predict(test_image).argmax()\n",
        "    label = test_labels[x].argmax()\n",
        "    if (predicted_cat != label):\n",
        "        plt.title('Prediction: %d Label: %d' % (predicted_cat, label))\n",
        "        plt.imshow(test_image.reshape([28,28]), cmap=plt.get_cmap('gray_r'))\n",
        "        plt.show()"
      ],
      "execution_count": 0,
      "outputs": []
    },
    {
      "metadata": {
        "collapsed": true,
        "id": "hrCaMtw3Qirx",
        "colab_type": "text"
      },
      "cell_type": "markdown",
      "source": [
        "You can see most of the ones it's having trouble with, are images a human would have trouble with as well!\n",
        "\n",
        "## Excercise\n",
        "\n",
        "As before, see if you can improve on the results! Does running more epochs help considerably? How about trying different optimizers?\n",
        "\n",
        "You can also take advantage of Keras's ease of use to try different topologies quickly. Keras includes a MNIST example, where they add an additional layer, and use Dropout at each step to prevent overfitting, like this:\n",
        "\n",
        "`\n",
        "model = Sequential()\n",
        "model.add(Dense(512, activation='relu', input_shape=(784,)))\n",
        "model.add(Dropout(0.2))\n",
        "model.add(Dense(512, activation='relu'))\n",
        "model.add(Dropout(0.2))\n",
        "model.add(Dense(10, activation='softmax'))\n",
        "`\n",
        "\n",
        "Try adapting that to our code above and see if it makes a difference or not."
      ]
    },
    {
      "metadata": {
        "id": "bB2t3ZeHQir1",
        "colab_type": "code",
        "colab": {}
      },
      "cell_type": "code",
      "source": [
        ""
      ],
      "execution_count": 0,
      "outputs": []
    }
  ]
}