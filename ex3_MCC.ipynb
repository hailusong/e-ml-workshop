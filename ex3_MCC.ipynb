{
  "nbformat": 4,
  "nbformat_minor": 0,
  "metadata": {
    "colab": {
      "name": "ex3 - MCC.ipynb",
      "version": "0.3.2",
      "provenance": []
    },
    "kernelspec": {
      "display_name": "Python 3",
      "language": "python",
      "name": "python3"
    }
  },
  "cells": [
    {
      "metadata": {
        "id": "vtrOIqS9Jh5e",
        "colab_type": "text"
      },
      "cell_type": "markdown",
      "source": [
        "# Iris Multiclass Classification\n",
        "- 150 **observations**\n",
        "- 4 **features** (sepal length, sepal width, petal length, petal width)\n",
        "- **Response** variable is the iris species\n",
        "- **Classification** problem since response is categorical"
      ]
    },
    {
      "metadata": {
        "id": "No7IYGwhJkr-",
        "colab_type": "code",
        "colab": {}
      },
      "cell_type": "code",
      "source": [
        "!git clone https://github.com/ArctiqTeam/e-ml-workshop"
      ],
      "execution_count": 0,
      "outputs": []
    },
    {
      "metadata": {
        "hiddenCell": true,
        "id": "YM5Or4QxJh5i",
        "colab_type": "code",
        "colab": {}
      },
      "cell_type": "code",
      "source": [
        "# Python version\n",
        "import sys\n",
        "print('Python: {}'.format(sys.version))\n",
        "# scipy\n",
        "import scipy\n",
        "print('scipy: {}'.format(scipy.__version__))\n",
        "# numpy\n",
        "import numpy as np\n",
        "print('numpy: {}'.format(np.__version__))\n",
        "# matplotlib\n",
        "import matplotlib\n",
        "print('matplotlib: {}'.format(matplotlib.__version__))\n",
        "# pandas\n",
        "import pandas as pd\n",
        "print('pandas: {}'.format(pd.__version__))\n",
        "# scikit-learn\n",
        "import sklearn\n",
        "print('sklearn: {}'.format(sklearn.__version__))"
      ],
      "execution_count": 0,
      "outputs": []
    },
    {
      "metadata": {
        "id": "yaOLP5oGJh5o",
        "colab_type": "code",
        "colab": {}
      },
      "cell_type": "code",
      "source": [
        "# Load libraries\n",
        "import pandas as pd\n",
        "from pandas.plotting import scatter_matrix\n",
        "import matplotlib.pyplot as plt\n",
        "from sklearn import model_selection\n",
        "from sklearn.metrics import classification_report\n",
        "from sklearn.metrics import confusion_matrix\n",
        "from sklearn.metrics import accuracy_score\n",
        "from sklearn.linear_model import LogisticRegression\n",
        "from sklearn.tree import DecisionTreeClassifier\n",
        "from sklearn.neighbors import KNeighborsClassifier\n",
        "from sklearn.discriminant_analysis import LinearDiscriminantAnalysis\n",
        "from sklearn.naive_bayes import GaussianNB\n",
        "from sklearn.svm import SVC"
      ],
      "execution_count": 0,
      "outputs": []
    },
    {
      "metadata": {
        "id": "gK2IFh2tJh5s",
        "colab_type": "text"
      },
      "cell_type": "markdown",
      "source": [
        "- Load Dataset\n",
        "- We can load the data directly from the UCI Machine Learning repository.\n",
        "\n",
        "- We are using pandas to load the data. We will also use pandas next to explore the data both with descriptive statistics and data visualization.\n",
        "\n",
        "- Note that we are specifying the names of each column when loading the data. This will help later when we explore the data."
      ]
    },
    {
      "metadata": {
        "id": "vGrILUnEJh5t",
        "colab_type": "code",
        "colab": {}
      },
      "cell_type": "code",
      "source": [
        "# Load dataset\n",
        "url = \"https://archive.ics.uci.edu/ml/machine-learning-databases/iris/iris.data\"\n",
        "names = ['sepal-length', 'sepal-width', 'petal-length', 'petal-width', 'class']\n",
        "dataset = pd.read_csv(url, names=names)"
      ],
      "execution_count": 0,
      "outputs": []
    },
    {
      "metadata": {
        "id": "TlBLYyfJJh5v",
        "colab_type": "text"
      },
      "cell_type": "markdown",
      "source": [
        "- Summarize the Dataset\n",
        "\n",
        "In this step we are going to take a look at the data a few different ways:\n",
        "\n",
        "* Dimensions of the dataset.\n",
        "* Peek at the data itself.\n",
        "* Statistical summary of all attributes.\n",
        "* Breakdown of the data by the class variable.\n",
        "* Don’t worry, each look at the data is one command. These are useful commands that you can use again and again on future projects."
      ]
    },
    {
      "metadata": {
        "id": "r49VNQJKJh5w",
        "colab_type": "code",
        "colab": {}
      },
      "cell_type": "code",
      "source": [
        "# shape\n",
        "print(dataset.shape)\n",
        "\n",
        "#You should see 150 instances and 5 attributes:"
      ],
      "execution_count": 0,
      "outputs": []
    },
    {
      "metadata": {
        "id": "MxSSy6iSJh51",
        "colab_type": "text"
      },
      "cell_type": "markdown",
      "source": [
        "Peek at the Data\n",
        "It is also always a good idea to actually eyeball your data."
      ]
    },
    {
      "metadata": {
        "id": "RBJXauMZJh52",
        "colab_type": "code",
        "colab": {}
      },
      "cell_type": "code",
      "source": [
        "# head\n",
        "print(dataset.head(20))"
      ],
      "execution_count": 0,
      "outputs": []
    },
    {
      "metadata": {
        "id": "5KbOF2YvJh57",
        "colab_type": "text"
      },
      "cell_type": "markdown",
      "source": [
        "![Iris](https://github.com/ArctiqTeam/e-ml-workshop/blob/master/images/03_iris.png?raw=1)"
      ]
    },
    {
      "metadata": {
        "id": "jvBKpW50Jh58",
        "colab_type": "text"
      },
      "cell_type": "markdown",
      "source": [
        "* Statistical Summary\n",
        "- Now we can take a look at a summary of each attribute.\n",
        "- This includes the count, mean, the min and max values as well as some percentiles."
      ]
    },
    {
      "metadata": {
        "id": "hHKWhjByJh59",
        "colab_type": "code",
        "colab": {}
      },
      "cell_type": "code",
      "source": [
        "# descriptions\n",
        "print(dataset.describe())"
      ],
      "execution_count": 0,
      "outputs": []
    },
    {
      "metadata": {
        "id": "ONvUlfc3Jh6D",
        "colab_type": "code",
        "colab": {}
      },
      "cell_type": "code",
      "source": [
        "# class distribution\n",
        "print(dataset.groupby('class').size())"
      ],
      "execution_count": 0,
      "outputs": []
    },
    {
      "metadata": {
        "collapsed": true,
        "id": "o_CH6Qc5Jh6I",
        "colab_type": "text"
      },
      "cell_type": "markdown",
      "source": [
        "# Data Visualization\n",
        "* We now have a basic idea about the data. We need to extend that with some visualizations.\n",
        "* We are going to look at two types of plots:\n",
        "* Univariate plots to better understand each attribute.\n",
        "* Multivariate plots to better understand the relationships between attributes."
      ]
    },
    {
      "metadata": {
        "id": "xE_yCgW3Jh6I",
        "colab_type": "text"
      },
      "cell_type": "markdown",
      "source": [
        "* We start with some univariate plots, that is, plots of each individual variable.\n",
        "* Given that the input variables are numeric, we can create box and whisker plots of each.\n",
        "* This gives us a much clearer idea of the distribution of the input attributes:"
      ]
    },
    {
      "metadata": {
        "id": "Zc9ptXYAJh6J",
        "colab_type": "code",
        "colab": {}
      },
      "cell_type": "code",
      "source": [
        "# box and whisker plots\n",
        "dataset.plot(kind='box', subplots=True, layout=(2,2), sharex=False, sharey=False)\n",
        "plt.show()"
      ],
      "execution_count": 0,
      "outputs": []
    },
    {
      "metadata": {
        "id": "iyjaF9dLJh6O",
        "colab_type": "text"
      },
      "cell_type": "markdown",
      "source": [
        "We can also create a histogram of each input variable to get an idea of the distribution."
      ]
    },
    {
      "metadata": {
        "id": "_Ah7wnGXJh6P",
        "colab_type": "code",
        "colab": {}
      },
      "cell_type": "code",
      "source": [
        "# histograms\n",
        "dataset.hist()\n",
        "plt.show()"
      ],
      "execution_count": 0,
      "outputs": []
    },
    {
      "metadata": {
        "id": "bB6QtFWoJh6T",
        "colab_type": "text"
      },
      "cell_type": "markdown",
      "source": [
        "* Now we can look at the interactions between the variables.\n",
        "* First, let’s look at scatterplots of all pairs of attributes. This can be helpful to spot structured relationships between input variables."
      ]
    },
    {
      "metadata": {
        "id": "UoZQ2TXUJh6V",
        "colab_type": "code",
        "colab": {}
      },
      "cell_type": "code",
      "source": [
        "# scatter plot matrix\n",
        "scatter_matrix(dataset)\n",
        "plt.show()"
      ],
      "execution_count": 0,
      "outputs": []
    },
    {
      "metadata": {
        "id": "F7TlqWlrJh6Z",
        "colab_type": "code",
        "colab": {}
      },
      "cell_type": "code",
      "source": [
        "# Plot Example Using Seaborn Plot\n",
        "\n",
        "df = pd.read_csv('./e-ml-workshop/data/iris.csv')\n",
        "import seaborn as sns\n",
        "sns.pairplot(df, hue=\"species\")"
      ],
      "execution_count": 0,
      "outputs": []
    },
    {
      "metadata": {
        "id": "2ZBs-tfsJh6f",
        "colab_type": "text"
      },
      "cell_type": "markdown",
      "source": [
        "# Evaluate Some Algorithms\n",
        "\n",
        "* Now it is time to create some models of the data and estimate their accuracy on unseen data.\n",
        "* Here is what we are going to cover in this step:\n",
        "*  Separate out a validation dataset.\n",
        "* Set-up the test harness to use 10-fold cross validation. [ this will be discussed in more detail ]\n",
        "* Build 5 different models to predict species from flower measurements\n",
        "* Select the best model.\n",
        "\n",
        "\n",
        "- Create a Validation Dataset\n",
        "- We need to know that the model we created is any good.\n",
        "\n",
        "\n",
        "Later, we will use statistical methods to estimate the accuracy of the models that we create on unseen data. \n",
        "We also want a more concrete estimate of the accuracy of the best model on unseen data by evaluating it on actual unseen data.\n",
        "\n",
        "That is, we are going to hold back some data that the algorithms will not get to see and we will use this data to get a second and independent idea of how accurate the best model might actually be.\n",
        "\n",
        "We will split the loaded dataset into two, 80% of which we will use to train our models and 20% that we will hold back as a validation dataset."
      ]
    },
    {
      "metadata": {
        "id": "ECcjrO8vJh6f",
        "colab_type": "code",
        "colab": {}
      },
      "cell_type": "code",
      "source": [
        "# Split-out validation dataset\n",
        "from sklearn.model_selection import train_test_split\n",
        "array = dataset.values\n",
        "X = array[:,0:4]\n",
        "Y = array[:,4]\n",
        "validation_size = 0.20\n",
        "seed = 7\n",
        "X_train, X_validation, Y_train, Y_validation = model_selection.train_test_split(X, Y, test_size=validation_size, random_state=seed)"
      ],
      "execution_count": 0,
      "outputs": []
    },
    {
      "metadata": {
        "id": "fMpq8zyjJh6k",
        "colab_type": "text"
      },
      "cell_type": "markdown",
      "source": [
        "* You now have training data in the X_train and Y_train for preparing models and\n",
        "* X_validation and Y_validation sets that we can use later."
      ]
    },
    {
      "metadata": {
        "id": "GBKTMvD9Jh6l",
        "colab_type": "text"
      },
      "cell_type": "markdown",
      "source": [
        "Test Harness\n",
        "We will use 10-fold cross validation to estimate accuracy.\n",
        "\n",
        "This will split our dataset into 10 parts, train on 9 and test on 1 and repeat for all combinations of train-test splits."
      ]
    },
    {
      "metadata": {
        "id": "Gl0kizUxJh6n",
        "colab_type": "code",
        "colab": {}
      },
      "cell_type": "code",
      "source": [
        "# Test options and evaluation metric\n",
        "seed = 7\n",
        "scoring = 'accuracy'"
      ],
      "execution_count": 0,
      "outputs": []
    },
    {
      "metadata": {
        "id": "LF7mb03PJh6r",
        "colab_type": "text"
      },
      "cell_type": "markdown",
      "source": [
        "We are using the metric of ‘accuracy‘ to evaluate models. This is a ratio of the number of correctly predicted instances in divided by the total number of instances in the dataset multiplied by 100 to give a percentage (e.g. 95% accurate). We will be using the scoring variable when we run build and evaluate each model next."
      ]
    },
    {
      "metadata": {
        "id": "RQWlrXlvJh6r",
        "colab_type": "text"
      },
      "cell_type": "markdown",
      "source": [
        "# Build Models\n",
        "* We don’t know which algorithms would be good on this problem or what configurations to use. \n",
        "* We get an idea from the plots that some of the classes are partially linearly separable in some dimensions, so we are expecting generally good results.\n",
        "\n",
        "Let’s evaluate 6 different algorithms:\n",
        "\n",
        "* Logistic Regression (LR)\n",
        "* Linear Discriminant Analysis (LDA)\n",
        "* K-Nearest Neighbors (KNN).\n",
        "* Classification and Regression Trees (CART).\n",
        "* Gaussian Naive Bayes (NB).\n",
        "* Support Vector Machines (SVM).\n",
        "\n",
        "This is a good mixture of simple linear (LR and LDA), nonlinear (KNN, CART, NB and SVM) algorithms. We reset the random number seed before each run to ensure that the evaluation of each algorithm is performed using exactly the same data splits. It ensures the results are directly comparable.\n",
        "\n",
        "Let’s build and evaluate our five models:"
      ]
    },
    {
      "metadata": {
        "id": "GEnI7lhqJh6s",
        "colab_type": "code",
        "colab": {}
      },
      "cell_type": "code",
      "source": [
        "# Spot Check Algorithms\n",
        "models = []\n",
        "models.append(('LR', LogisticRegression()))\n",
        "models.append(('LDA', LinearDiscriminantAnalysis()))\n",
        "models.append(('KNN', KNeighborsClassifier()))\n",
        "models.append(('CART', DecisionTreeClassifier()))\n",
        "models.append(('NB', GaussianNB()))\n",
        "models.append(('SVM', SVC()))\n",
        "# evaluate each model in turn\n",
        "results = []\n",
        "names = []\n",
        "for name, model in models:\n",
        "\tkfold = model_selection.KFold(n_splits=10, random_state=seed) # <-- more on this shortly\n",
        "\tcv_results = model_selection.cross_val_score(model, X_train, Y_train, cv=kfold, scoring=scoring)\n",
        "\tresults.append(cv_results)\n",
        "\tnames.append(name)\n",
        "\tmsg = \"%s: %f (%f)\" % (name, cv_results.mean(), cv_results.std())\n",
        "\tprint(msg)"
      ],
      "execution_count": 0,
      "outputs": []
    },
    {
      "metadata": {
        "collapsed": true,
        "id": "MnrNjI_SJh6x",
        "colab_type": "text"
      },
      "cell_type": "markdown",
      "source": [
        "Select Best Model\n",
        "\n",
        "We now have 6 models and accuracy estimations for each. We need to compare the models to each other and select the most accurate.\n",
        "Running the example above, we get the following raw results:"
      ]
    },
    {
      "metadata": {
        "id": "8r9OdglCJh6y",
        "colab_type": "code",
        "colab": {}
      },
      "cell_type": "code",
      "source": [
        "# Compare Algorithms\n",
        "fig = plt.figure()\n",
        "fig.suptitle('Algorithm Comparison')\n",
        "ax = fig.add_subplot(111)\n",
        "plt.boxplot(results)\n",
        "ax.set_xticklabels(names)\n",
        "plt.show()"
      ],
      "execution_count": 0,
      "outputs": []
    },
    {
      "metadata": {
        "id": "HBeK4ABEJh62",
        "colab_type": "text"
      },
      "cell_type": "markdown",
      "source": [
        "# Make Predictions\n",
        "The KNN algorithm was the near the top of the list that we tested. Now we want to get an idea of the accuracy of the model on our validation set.\n",
        "\n",
        "This will give us an independent final check on the accuracy of the best model. It is valuable to keep a validation set just in case you made a slip during training, such as overfitting to the training set or a data leak. Both will result in an overly optimistic result.\n",
        "\n",
        "We can run the KNN model directly on the validation set and summarize the results as a final accuracy score, a confusion matrix and a classification report."
      ]
    },
    {
      "metadata": {
        "id": "eCnOLw4NJh63",
        "colab_type": "code",
        "colab": {}
      },
      "cell_type": "code",
      "source": [
        "# Make predictions on validation dataset\n",
        "knn = KNeighborsClassifier()\n",
        "knn.fit(X_train, Y_train)\n",
        "predictions = knn.predict(X_validation)\n",
        "print(accuracy_score(Y_validation, predictions))\n",
        "print(confusion_matrix(Y_validation, predictions))\n",
        "print(classification_report(Y_validation, predictions))"
      ],
      "execution_count": 0,
      "outputs": []
    },
    {
      "metadata": {
        "id": "2RUe3uHMJh67",
        "colab_type": "text"
      },
      "cell_type": "markdown",
      "source": [
        "# Plot the decision surface of a different ML models on the iris dataset"
      ]
    },
    {
      "metadata": {
        "id": "NMDIBOcUJh67",
        "colab_type": "code",
        "colab": {}
      },
      "cell_type": "code",
      "source": [
        "print(__doc__)\n",
        "\n",
        "import numpy as np\n",
        "import matplotlib.pyplot as plt\n",
        "from matplotlib.colors import ListedColormap\n",
        "from sklearn import neighbors, datasets\n",
        "\n",
        "n_neighbors = 15\n",
        "\n",
        "# import some data to play with\n",
        "iris = datasets.load_iris()\n",
        "\n",
        "# we only take the first two features. We could avoid this ugly\n",
        "# slicing by using a two-dim dataset\n",
        "X = iris.data[:, :2]\n",
        "y = iris.target\n",
        "\n",
        "h = .02  # step size in the mesh\n",
        "\n",
        "# Create color maps\n",
        "cmap_light = ListedColormap(['#FFAAAA', '#AAFFAA', '#AAAAFF'])\n",
        "cmap_bold = ListedColormap(['#FF0000', '#00FF00', '#0000FF'])\n",
        "\n",
        "for weights in ['uniform', 'distance']:\n",
        "    # we create an instance of Neighbours Classifier and fit the data.\n",
        "    clf = neighbors.KNeighborsClassifier(n_neighbors, weights=weights)\n",
        "    clf.fit(X, y)\n",
        "\n",
        "    # Plot the decision boundary. For that, we will assign a color to each\n",
        "    # point in the mesh [x_min, x_max]x[y_min, y_max].\n",
        "    x_min, x_max = X[:, 0].min() - 1, X[:, 0].max() + 1\n",
        "    y_min, y_max = X[:, 1].min() - 1, X[:, 1].max() + 1\n",
        "    xx, yy = np.meshgrid(np.arange(x_min, x_max, h),\n",
        "                         np.arange(y_min, y_max, h))\n",
        "    Z = clf.predict(np.c_[xx.ravel(), yy.ravel()])\n",
        "\n",
        "    # Put the result into a color plot\n",
        "    Z = Z.reshape(xx.shape)\n",
        "    plt.figure()\n",
        "    plt.pcolormesh(xx, yy, Z, cmap=cmap_light)\n",
        "\n",
        "    # Plot also the training points\n",
        "    plt.scatter(X[:, 0], X[:, 1], c=y, cmap=cmap_bold,\n",
        "                edgecolor='k', s=20)\n",
        "    plt.xlim(xx.min(), xx.max())\n",
        "    plt.ylim(yy.min(), yy.max())\n",
        "    plt.title(\"3-Class classification (k = %i, weights = '%s')\"\n",
        "              % (n_neighbors, weights))\n",
        "\n",
        "plt.show()"
      ],
      "execution_count": 0,
      "outputs": []
    },
    {
      "metadata": {
        "id": "F79nyCvZJh6-",
        "colab_type": "code",
        "colab": {}
      },
      "cell_type": "code",
      "source": [
        "print(__doc__)\n",
        "\n",
        "import numpy as np\n",
        "import matplotlib.pyplot as plt\n",
        "from sklearn import svm, datasets\n",
        "\n",
        "\n",
        "def make_meshgrid(x, y, h=.02):\n",
        "    \"\"\"Create a mesh of points to plot in\n",
        "\n",
        "    Parameters\n",
        "    ----------\n",
        "    x: data to base x-axis meshgrid on\n",
        "    y: data to base y-axis meshgrid on\n",
        "    h: stepsize for meshgrid, optional\n",
        "\n",
        "    Returns\n",
        "    -------\n",
        "    xx, yy : ndarray\n",
        "    \"\"\"\n",
        "    x_min, x_max = x.min() - 1, x.max() + 1\n",
        "    y_min, y_max = y.min() - 1, y.max() + 1\n",
        "    xx, yy = np.meshgrid(np.arange(x_min, x_max, h),\n",
        "                         np.arange(y_min, y_max, h))\n",
        "    return xx, yy\n",
        "\n",
        "\n",
        "def plot_contours(ax, clf, xx, yy, **params):\n",
        "    \"\"\"Plot the decision boundaries for a classifier.\n",
        "\n",
        "    Parameters\n",
        "    ----------\n",
        "    ax: matplotlib axes object\n",
        "    clf: a classifier\n",
        "    xx: meshgrid ndarray\n",
        "    yy: meshgrid ndarray\n",
        "    params: dictionary of params to pass to contourf, optional\n",
        "    \"\"\"\n",
        "    Z = clf.predict(np.c_[xx.ravel(), yy.ravel()])\n",
        "    Z = Z.reshape(xx.shape)\n",
        "    out = ax.contourf(xx, yy, Z, **params)\n",
        "    return out\n",
        "\n",
        "\n",
        "# import some data to play with\n",
        "iris = datasets.load_iris()\n",
        "# Take the first two features. We could avoid this by using a two-dim dataset\n",
        "X = iris.data[:, :2]\n",
        "y = iris.target\n",
        "\n",
        "# we create an instance of SVM and fit out data. We do not scale our\n",
        "# data since we want to plot the support vectors\n",
        "C = 1.0  # SVM regularization parameter\n",
        "models = (svm.SVC(kernel='linear', C=C),\n",
        "          svm.LinearSVC(C=C),\n",
        "          svm.SVC(kernel='rbf', gamma=0.7, C=C),\n",
        "          svm.SVC(kernel='poly', degree=3, C=C))\n",
        "models = (clf.fit(X, y) for clf in models)\n",
        "\n",
        "# title for the plots\n",
        "titles = ('SVC with linear kernel',\n",
        "          'LinearSVC (linear kernel)',\n",
        "          'SVC with RBF kernel',\n",
        "          'SVC with polynomial (degree 3) kernel')\n",
        "\n",
        "# Set-up 2x2 grid for plotting.\n",
        "fig, sub = plt.subplots(2, 2)\n",
        "plt.subplots_adjust(wspace=0.4, hspace=0.4)\n",
        "\n",
        "X0, X1 = X[:, 0], X[:, 1]\n",
        "xx, yy = make_meshgrid(X0, X1)\n",
        "\n",
        "for clf, title, ax in zip(models, titles, sub.flatten()):\n",
        "    plot_contours(ax, clf, xx, yy,\n",
        "                  cmap=plt.cm.coolwarm, alpha=0.8)\n",
        "    ax.scatter(X0, X1, c=y, cmap=plt.cm.coolwarm, s=20, edgecolors='k')\n",
        "    ax.set_xlim(xx.min(), xx.max())\n",
        "    ax.set_ylim(yy.min(), yy.max())\n",
        "    ax.set_xlabel('Sepal length')\n",
        "    ax.set_ylabel('Sepal width')\n",
        "    ax.set_xticks(())\n",
        "    ax.set_yticks(())\n",
        "    ax.set_title(title)\n",
        "\n",
        "plt.show()"
      ],
      "execution_count": 0,
      "outputs": []
    },
    {
      "metadata": {
        "id": "OW8IYmndJh7E",
        "colab_type": "text"
      },
      "cell_type": "markdown",
      "source": [
        "# Classification"
      ]
    },
    {
      "metadata": {
        "id": "qjgbHLuaJh7E",
        "colab_type": "code",
        "colab": {}
      },
      "cell_type": "code",
      "source": [
        "from keras.models import Sequential\n",
        "from keras.layers import Dense\n",
        "from keras.optimizers import Adam, SGD"
      ],
      "execution_count": 0,
      "outputs": []
    },
    {
      "metadata": {
        "id": "DU9qCteCJh7H",
        "colab_type": "code",
        "colab": {}
      },
      "cell_type": "code",
      "source": [
        "df = pd.read_csv('./e-ml-workshop/data/user_visit_duration.csv')"
      ],
      "execution_count": 0,
      "outputs": []
    },
    {
      "metadata": {
        "id": "DK7VfdOwJh7N",
        "colab_type": "code",
        "colab": {}
      },
      "cell_type": "code",
      "source": [
        "df.head()"
      ],
      "execution_count": 0,
      "outputs": []
    },
    {
      "metadata": {
        "id": "1A65ZZd5Jh7Q",
        "colab_type": "code",
        "colab": {}
      },
      "cell_type": "code",
      "source": [
        "df.plot(kind='scatter', x='Time (min)', y='Buy')"
      ],
      "execution_count": 0,
      "outputs": []
    },
    {
      "metadata": {
        "id": "oCnKxuzsJh7S",
        "colab_type": "code",
        "colab": {}
      },
      "cell_type": "code",
      "source": [
        "model = Sequential()\n",
        "model.add(Dense(1, input_shape=(1,), activation='sigmoid'))"
      ],
      "execution_count": 0,
      "outputs": []
    },
    {
      "metadata": {
        "id": "xODA7awjJh7U",
        "colab_type": "code",
        "colab": {}
      },
      "cell_type": "code",
      "source": [
        "model.compile(SGD(lr=0.5), 'binary_crossentropy', metrics=['accuracy'])"
      ],
      "execution_count": 0,
      "outputs": []
    },
    {
      "metadata": {
        "id": "6XeVF2KFJh7W",
        "colab_type": "code",
        "colab": {}
      },
      "cell_type": "code",
      "source": [
        "model.summary()"
      ],
      "execution_count": 0,
      "outputs": []
    },
    {
      "metadata": {
        "id": "5UR8BLQYJh7Y",
        "colab_type": "code",
        "colab": {}
      },
      "cell_type": "code",
      "source": [
        "X = df[['Time (min)']].values\n",
        "y = df['Buy'].values\n",
        "\n",
        "model.fit(X, y, epochs=25)"
      ],
      "execution_count": 0,
      "outputs": []
    },
    {
      "metadata": {
        "id": "GIy0uqyhJh7Z",
        "colab_type": "code",
        "colab": {}
      },
      "cell_type": "code",
      "source": [
        "ax = df.plot(kind='scatter', x='Time (min)', y='Buy',\n",
        "             title='Purchase behavior VS time spent on site')\n",
        "\n",
        "temp = np.linspace(0, 4)\n",
        "ax.plot(temp, model.predict(temp), color='orange')\n",
        "plt.legend(['model', 'data'])"
      ],
      "execution_count": 0,
      "outputs": []
    },
    {
      "metadata": {
        "id": "xE08sUBKJh7b",
        "colab_type": "code",
        "colab": {}
      },
      "cell_type": "code",
      "source": [
        "temp_class = model.predict(temp) > 0.5"
      ],
      "execution_count": 0,
      "outputs": []
    },
    {
      "metadata": {
        "id": "1b3817-IJh7d",
        "colab_type": "code",
        "colab": {}
      },
      "cell_type": "code",
      "source": [
        "ax = df.plot(kind='scatter', x='Time (min)', y='Buy',\n",
        "             title='Purchase behavior VS time spent on site')\n",
        "\n",
        "temp = np.linspace(0, 4)\n",
        "ax.plot(temp, temp_class, color='orange')\n",
        "plt.legend(['model', 'data'])"
      ],
      "execution_count": 0,
      "outputs": []
    },
    {
      "metadata": {
        "id": "SJW-6WWLJh7f",
        "colab_type": "code",
        "colab": {}
      },
      "cell_type": "code",
      "source": [
        "y_pred = model.predict(X)\n",
        "y_class_pred = y_pred > 0.5"
      ],
      "execution_count": 0,
      "outputs": []
    },
    {
      "metadata": {
        "id": "W9rer1GvJh7i",
        "colab_type": "code",
        "colab": {}
      },
      "cell_type": "code",
      "source": [
        "from sklearn.metrics import accuracy_score"
      ],
      "execution_count": 0,
      "outputs": []
    },
    {
      "metadata": {
        "id": "EuRgj6_xJh7l",
        "colab_type": "code",
        "colab": {}
      },
      "cell_type": "code",
      "source": [
        "print(\"The accuracy score is {:0.3f}\".format(accuracy_score(y, y_class_pred)))"
      ],
      "execution_count": 0,
      "outputs": []
    },
    {
      "metadata": {
        "id": "ef1pR60dJh7o",
        "colab_type": "text"
      },
      "cell_type": "markdown",
      "source": [
        "### Train/Test split"
      ]
    },
    {
      "metadata": {
        "id": "D7tyTLpLJh7o",
        "colab_type": "code",
        "colab": {}
      },
      "cell_type": "code",
      "source": [
        "X_train, X_test, y_train, y_test = train_test_split(X, y, test_size=0.2)"
      ],
      "execution_count": 0,
      "outputs": []
    },
    {
      "metadata": {
        "id": "AO4-RVpnJh7r",
        "colab_type": "code",
        "colab": {}
      },
      "cell_type": "code",
      "source": [
        "params = model.get_weights()\n",
        "params = [np.zeros(w.shape) for w in params]\n",
        "model.set_weights(params)"
      ],
      "execution_count": 0,
      "outputs": []
    },
    {
      "metadata": {
        "id": "8bZ92aghJh7u",
        "colab_type": "code",
        "colab": {}
      },
      "cell_type": "code",
      "source": [
        "print(\"The accuracy score is {:0.3f}\".format(accuracy_score(y, model.predict(X) > 0.5)))"
      ],
      "execution_count": 0,
      "outputs": []
    },
    {
      "metadata": {
        "id": "4-YZwv6wJh7y",
        "colab_type": "code",
        "colab": {}
      },
      "cell_type": "code",
      "source": [
        "model.fit(X_train, y_train, epochs=25, verbose=0)"
      ],
      "execution_count": 0,
      "outputs": []
    },
    {
      "metadata": {
        "id": "h5Q1vhoTJh7z",
        "colab_type": "code",
        "colab": {}
      },
      "cell_type": "code",
      "source": [
        "print(\"The train accuracy score is {:0.3f}\".format(accuracy_score(y_train, model.predict(X_train) > 0.5)))\n",
        "print(\"The test accuracy score is {:0.3f}\".format(accuracy_score(y_test, model.predict(X_test) > 0.5)))"
      ],
      "execution_count": 0,
      "outputs": []
    },
    {
      "metadata": {
        "id": "w6DYLhd0Jh71",
        "colab_type": "text"
      },
      "cell_type": "markdown",
      "source": [
        "## Cross Validation"
      ]
    },
    {
      "metadata": {
        "id": "KklOlHGcJh72",
        "colab_type": "code",
        "colab": {}
      },
      "cell_type": "code",
      "source": [
        "from keras.wrappers.scikit_learn import KerasClassifier"
      ],
      "execution_count": 0,
      "outputs": []
    },
    {
      "metadata": {
        "id": "H-QDxQFrJh74",
        "colab_type": "code",
        "colab": {}
      },
      "cell_type": "code",
      "source": [
        "def build_logistic_regression_model():\n",
        "    model = Sequential()\n",
        "    model.add(Dense(1, input_shape=(1,), activation='sigmoid'))\n",
        "    model.compile(SGD(lr=0.5),\n",
        "                  'binary_crossentropy',\n",
        "                  metrics=['accuracy'])\n",
        "    return model"
      ],
      "execution_count": 0,
      "outputs": []
    },
    {
      "metadata": {
        "id": "lfuOTxdhJh77",
        "colab_type": "code",
        "colab": {}
      },
      "cell_type": "code",
      "source": [
        "model = KerasClassifier(build_fn=build_logistic_regression_model,\n",
        "                        epochs=25,\n",
        "                        verbose=0)"
      ],
      "execution_count": 0,
      "outputs": []
    },
    {
      "metadata": {
        "id": "AJ0yZKKcJh7-",
        "colab_type": "code",
        "colab": {}
      },
      "cell_type": "code",
      "source": [
        "from sklearn.model_selection import cross_val_score, KFold"
      ],
      "execution_count": 0,
      "outputs": []
    },
    {
      "metadata": {
        "id": "fSQOsRJIJh8B",
        "colab_type": "code",
        "colab": {}
      },
      "cell_type": "code",
      "source": [
        "cv = KFold(3, shuffle=True)"
      ],
      "execution_count": 0,
      "outputs": []
    },
    {
      "metadata": {
        "id": "VZL6Xn6oJh8E",
        "colab_type": "code",
        "colab": {}
      },
      "cell_type": "code",
      "source": [
        "scores = cross_val_score(model, X, y, cv=cv)"
      ],
      "execution_count": 0,
      "outputs": []
    },
    {
      "metadata": {
        "id": "52eLGo6yJh8G",
        "colab_type": "code",
        "colab": {}
      },
      "cell_type": "code",
      "source": [
        "scores"
      ],
      "execution_count": 0,
      "outputs": []
    },
    {
      "metadata": {
        "id": "HjcoHe3jJh8J",
        "colab_type": "code",
        "colab": {}
      },
      "cell_type": "code",
      "source": [
        "print(\"The cross validation accuracy is {:0.4f} ± {:0.4f}\".format(scores.mean(), scores.std()))"
      ],
      "execution_count": 0,
      "outputs": []
    },
    {
      "metadata": {
        "id": "8p4zh4lIJh8L",
        "colab_type": "text"
      },
      "cell_type": "markdown",
      "source": [
        "## Exercise 2\n",
        "\n",
        "Your boss was extremely happy with your work on the housing price prediction model and decided to entrust you with a more challenging task. They've seen a lot of people leave the company recently and they would like to understand why that's happening. They have collected historical data on employees and they would like you to build a model that is able to predict which employee will leave next. The would like a model that is better than random guessing. They also prefer false negatives than false positives, in this first phase. Fields in the dataset include:\n",
        "\n",
        "- Employee satisfaction level\n",
        "- Last evaluation\n",
        "- Number of projects\n",
        "- Average monthly hours\n",
        "- Time spent at the company\n",
        "- Whether they have had a work accident\n",
        "- Whether they have had a promotion in the last 5 years\n",
        "- Department\n",
        "- Salary\n",
        "- Whether the employee has left\n",
        "\n",
        "Your goal is to predict the binary outcome variable `left` using the rest of the data. Since the outcome is binary, this is a classification problem. Here are some things you may want to try out:\n",
        "\n",
        "1. load the dataset at ./e-ml-workshop/data/HR_comma_sep.csv, inspect it with `.head()`, `.info()` and `.describe()`.\n",
        "- Establish a benchmark: what would be your accuracy score if you predicted everyone stay?\n",
        "- Check if any feature needs rescaling. You may plot a histogram of the feature to decide which rescaling method is more appropriate.\n",
        "- convert the categorical features into binary dummy columns. You will then have to combine them with the numerical features using `pd.concat`.\n",
        "- do the usual train/test split with a 20% test size\n",
        "- play around with learning rate and optimizer\n",
        "- check the confusion matrix, precision and recall\n",
        "- check if you still get the same results if you use a 5-Fold cross validation on all the data\n",
        "- Is the model good enough for your boss?\n",
        "\n",
        "As you will see in this exercise, the a logistic regression model is not good enough to help your boss. \n",
        "\n",
        "This dataset comes from https://www.kaggle.com/ludobenistant/hr-analytics/ and is released under [CC BY-SA 4.0 License](https://creativecommons.org/licenses/by-sa/4.0/)."
      ]
    },
    {
      "metadata": {
        "id": "4ylukmB_Jh8L",
        "colab_type": "code",
        "colab": {}
      },
      "cell_type": "code",
      "source": [
        ""
      ],
      "execution_count": 0,
      "outputs": []
    },
    {
      "metadata": {
        "id": "eastYQnVJh8N",
        "colab_type": "text"
      },
      "cell_type": "markdown",
      "source": [
        "# Next  we will learn how to go beyond traditional models with Neural Networks!"
      ]
    }
  ]
}